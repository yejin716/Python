{
 "cells": [
  {
   "cell_type": "markdown",
   "id": "7c0b3b82-b676-4ac5-9e50-b0432ab124c0",
   "metadata": {},
   "source": [
    "파이썬 자료형 "
   ]
  },
  {
   "cell_type": "code",
   "execution_count": 1,
   "id": "4a13d9bd-5004-4510-9854-d0fe06b4032f",
   "metadata": {},
   "outputs": [
    {
     "name": "stdout",
     "output_type": "stream",
     "text": [
      "1234 -12.24\n",
      "<class 'int'> <class 'float'>\n",
      "1221.76\n",
      "<class 'float'>\n"
     ]
    }
   ],
   "source": [
    "# 숫자형 \n",
    "\n",
    "a = 1234\n",
    "b = -12.24\n",
    "c = a + b\n",
    "\n",
    "print(a, b)\n",
    "print(type(a), type(b))\n",
    "print(c)\n",
    "print(type(c))\n",
    "# int + float 계산 결과 >> float (더 큰 범위로 자동 수정됨) "
   ]
  },
  {
   "cell_type": "code",
   "execution_count": 2,
   "id": "90ef1d80-d24c-4382-855a-e283bdf011e8",
   "metadata": {},
   "outputs": [
    {
     "name": "stdout",
     "output_type": "stream",
     "text": [
      "10\n",
      "21\n",
      "21\n",
      "0.42857142857142855\n",
      "2187\n",
      "0\n",
      "3\n"
     ]
    }
   ],
   "source": [
    "# 사칙연산 \n",
    "\n",
    "a = 3 \n",
    "b = 7\n",
    "\n",
    "# 사칙연산 (가능)\n",
    "print(a+b)\n",
    "print(a*b)\n",
    "print(a*b)\n",
    "print(a/b)\n",
    "\n",
    "print(a ** b)\n",
    "\n",
    "# 몫과 나머지\n",
    "print(a // b)\n",
    "print(a % b)"
   ]
  },
  {
   "cell_type": "code",
   "execution_count": 3,
   "id": "ef354a5d-3391-4bbf-98d0-5c125c88fff1",
   "metadata": {},
   "outputs": [],
   "source": [
    "# 문자열 자료형 \n",
    "\n",
    "a = \"hello mulcam\" \n",
    "b = \"hello everyone\" \n",
    "c = '\"hello!\". Dr.Will says.'\n",
    "d = 'hello mulcam\\nLife is so good'"
   ]
  },
  {
   "cell_type": "code",
   "execution_count": 4,
   "id": "870ff168-0eb1-49ce-8123-d2a14114aedb",
   "metadata": {},
   "outputs": [
    {
     "name": "stdout",
     "output_type": "stream",
     "text": [
      "hello mulcam\n",
      "hello everyone\n",
      "\"hello!\". Dr.Will says.\n",
      "hello mulcam\n",
      "Life is so good\n"
     ]
    }
   ],
   "source": [
    "print(a)\n",
    "print(b)\n",
    "print(c)\n",
    "print(d)"
   ]
  },
  {
   "cell_type": "markdown",
   "id": "e08ef94b-247e-41b5-bf39-d6db9213d359",
   "metadata": {},
   "source": [
    "문자열 더하기와 곱하기 "
   ]
  },
  {
   "cell_type": "code",
   "execution_count": 5,
   "id": "b79527f6-1ebe-4a83-9b2f-14af5ee0e089",
   "metadata": {},
   "outputs": [
    {
     "name": "stdout",
     "output_type": "stream",
     "text": [
      "multi campus\n"
     ]
    }
   ],
   "source": [
    "# 문자열 더하기 \n",
    "\n",
    "a = \"multi\" \n",
    "b = \" \" # 공백도 문자열 \n",
    "c = \"campus\" \n",
    "\n",
    "print(a+b+c)\n",
    "# 문자 + 문자 >> 확장 "
   ]
  },
  {
   "cell_type": "code",
   "execution_count": 6,
   "id": "2214df04-4aa0-4f18-b525-c3b5dc533d5a",
   "metadata": {},
   "outputs": [
    {
     "name": "stdout",
     "output_type": "stream",
     "text": [
      "Python Python Python Python Python \n"
     ]
    }
   ],
   "source": [
    "# 문자열 곱하기 \n",
    "\n",
    "a = \"Python \" \n",
    "\n",
    "print(a*5)\n",
    "# 문자 곱하기 >> 반복 "
   ]
  },
  {
   "cell_type": "code",
   "execution_count": 7,
   "id": "c78e7b3d-2493-4cee-9e69-abb1e0420c1e",
   "metadata": {},
   "outputs": [
    {
     "data": {
      "text/plain": [
       "7"
      ]
     },
     "execution_count": 7,
     "metadata": {},
     "output_type": "execute_result"
    }
   ],
   "source": [
    "# 문자열 길이 구하기 \n",
    "\n",
    "len(a)"
   ]
  },
  {
   "cell_type": "code",
   "execution_count": 8,
   "id": "b30736ef-b470-448a-898f-9426f20c2525",
   "metadata": {},
   "outputs": [
    {
     "name": "stdout",
     "output_type": "stream",
     "text": [
      "L\n",
      "활용도\n",
      "쉽고, 가독성이 좋아서\n"
     ]
    }
   ],
   "source": [
    "# 문자열 인덱싱과 슬라이싱\n",
    "\n",
    "life_ = \"Life is short. Python is valuable\"\n",
    "shp = \"활용도가 높아서\"\n",
    "l_y = '다른 코딩 툴보다 쉽고, 가독성이 좋아서'\n",
    "\n",
    "# 문자열 인덱싱\n",
    "print(life_[0]) \n",
    "\n",
    "# 문자열 슬라이싱\n",
    "print(shp[:3])\n",
    "print(l_y[-12:])"
   ]
  },
  {
   "cell_type": "code",
   "execution_count": 9,
   "id": "e8abdd7d-3454-48ad-a088-8642541f2e39",
   "metadata": {},
   "outputs": [
    {
     "name": "stdout",
     "output_type": "stream",
     "text": [
      "1\n",
      "2\n"
     ]
    }
   ],
   "source": [
    "# 문자 개수 세기 \n",
    "print(l_y.count('가독성'))\n",
    "print(life_.count('is'))"
   ]
  },
  {
   "cell_type": "code",
   "execution_count": 10,
   "id": "c258b469-8961-4a42-bd05-e363929da331",
   "metadata": {},
   "outputs": [
    {
     "data": {
      "text/plain": [
       "3"
      ]
     },
     "execution_count": 10,
     "metadata": {},
     "output_type": "execute_result"
    }
   ],
   "source": [
    "# 문자 위치 찾기 \n",
    "l_y.find('코딩')"
   ]
  },
  {
   "cell_type": "code",
   "execution_count": 11,
   "id": "659f1c85-ab77-4703-8958-523f8dfd304e",
   "metadata": {},
   "outputs": [
    {
     "name": "stdout",
     "output_type": "stream",
     "text": [
      "활용도가 높아서\n"
     ]
    },
    {
     "data": {
      "text/plain": [
       "'활/용/도/가/ /높/아/서'"
      ]
     },
     "execution_count": 11,
     "metadata": {},
     "output_type": "execute_result"
    }
   ],
   "source": [
    "# 문자열 삽입 (***)\n",
    "print(shp)\n",
    "\n",
    "'/'.join(shp)"
   ]
  },
  {
   "cell_type": "markdown",
   "id": "d67a811d-c6cd-4cfc-a9bd-034267f44dfd",
   "metadata": {},
   "source": [
    "소문자와 대문자 "
   ]
  },
  {
   "cell_type": "code",
   "execution_count": 12,
   "id": "c17d9380-73d7-4402-9f12-bb1c56236fc7",
   "metadata": {},
   "outputs": [
    {
     "name": "stdout",
     "output_type": "stream",
     "text": [
      "APPLE\n",
      "apple\n"
     ]
    }
   ],
   "source": [
    "a = \"apple\"\n",
    "b = a.upper()\n",
    "c = a.lower()\n",
    "\n",
    "print(b)\n",
    "print(c)"
   ]
  },
  {
   "cell_type": "code",
   "execution_count": 13,
   "id": "28e575d3-1bf3-41b1-9b26-4341fd701f49",
   "metadata": {},
   "outputs": [
    {
     "name": "stdout",
     "output_type": "stream",
     "text": [
      "       다른 코딩 툴보다 쉽고, 가독성이 좋아서           \n",
      "다른 코딩 툴보다 쉽고, 가독성이 좋아서\n",
      "다른 코딩 툴보다 쉽고, 가독성이 좋아서           \n",
      "       다른 코딩 툴보다 쉽고, 가독성이 좋아서\n"
     ]
    }
   ],
   "source": [
    "# 공백 지우기 (***)\n",
    "\n",
    "l_y = '       다른 코딩 툴보다 쉽고, 가독성이 좋아서           '\n",
    "\n",
    "strip_ = l_y.strip()\n",
    "lstrip_ = l_y.lstrip()\n",
    "rstrip_ = l_y.rstrip()\n",
    "\n",
    "print(l_y)\n",
    "print(strip_)\n",
    "print(lstrip_)\n",
    "print(rstrip_)"
   ]
  },
  {
   "cell_type": "code",
   "execution_count": 14,
   "id": "99efab2e-cae1-42ec-ae85-47640db5a81c",
   "metadata": {},
   "outputs": [
    {
     "name": "stdout",
     "output_type": "stream",
     "text": [
      "Life is short. Python is valuable\n",
      "Life is short. Study is valuable\n"
     ]
    }
   ],
   "source": [
    "# 문자열 바꾸기 (***)\n",
    "\n",
    "print(life_)\n",
    "\n",
    "study_ = life_.replace(\"Python\", \"Study\")\n",
    "\n",
    "print(study_)"
   ]
  },
  {
   "cell_type": "code",
   "execution_count": 15,
   "id": "ef360233-ccde-4f0d-84e0-1b853d3b4623",
   "metadata": {},
   "outputs": [
    {
     "name": "stdout",
     "output_type": "stream",
     "text": [
      "Life is short. Study is valuable\n",
      "['Life', 'is', 'short.', 'Study', 'is', 'valuable']\n",
      "['Life is short', ' Study is valuable']\n"
     ]
    }
   ],
   "source": [
    "# 문자열 나누기 (***) \n",
    "\n",
    "print(study_)\n",
    "spl = study_.split() # 공백 기준, 나누기 \n",
    "spl_jum = study_.split('.') # '.' 기준, 나누기 \n",
    "\n",
    "print(spl)\n",
    "print(spl_jum)"
   ]
  },
  {
   "cell_type": "code",
   "execution_count": 16,
   "id": "86b8255e-548d-4a91-a2f7-66d4fb358866",
   "metadata": {},
   "outputs": [
    {
     "data": {
      "text/plain": [
       "'Study is valuable'"
      ]
     },
     "execution_count": 16,
     "metadata": {},
     "output_type": "execute_result"
    }
   ],
   "source": [
    "# 추가적으로 데이터 정제 \n",
    "spl_jum\n",
    "spl_jum[1]\n",
    "spl_jum[1].strip()"
   ]
  },
  {
   "cell_type": "code",
   "execution_count": 17,
   "id": "bb6c87a1-e2e8-4113-9bd7-9db123735d21",
   "metadata": {},
   "outputs": [
    {
     "data": {
      "text/plain": [
       "'Study is valuable'"
      ]
     },
     "execution_count": 17,
     "metadata": {},
     "output_type": "execute_result"
    }
   ],
   "source": [
    "# tips! 데이터 전처리 시, 임시변수(temp) 적극 활용 권고 \n",
    "temp_ = spl_jum[1].strip()\n",
    "temp_ "
   ]
  },
  {
   "cell_type": "markdown",
   "id": "4d88dd1f-2cdd-4fce-a8c5-ec03465a18fe",
   "metadata": {},
   "source": [
    "리스트 자료형 "
   ]
  },
  {
   "cell_type": "code",
   "execution_count": 18,
   "id": "11fa1ca2-99d7-48f7-a616-ffb8ebe87a5b",
   "metadata": {},
   "outputs": [
    {
     "name": "stdout",
     "output_type": "stream",
     "text": [
      "[1, 2, 3, 4, 5, 1, 2, 3, 4, 5, 'a', 'b', 'c']\n",
      "13\n"
     ]
    }
   ],
   "source": [
    "# 기본 연산 \n",
    "\n",
    "a = [1,2,3,4,5]\n",
    "b = ['a', 'b', 'c' ]\n",
    "\n",
    "c = a * 2 + b\n",
    "d = len(c)\n",
    "\n",
    "print(c)\n",
    "print(d)"
   ]
  },
  {
   "cell_type": "code",
   "execution_count": 19,
   "id": "ad12f6d9-251a-4340-873b-5b382f6b56e5",
   "metadata": {},
   "outputs": [
    {
     "name": "stdout",
     "output_type": "stream",
     "text": [
      "[1, 2, 3, 4, 5]\n",
      "3\n",
      "[5, 4, 3, 2, 1]\n",
      "[5, 2]\n",
      "[5]\n"
     ]
    }
   ],
   "source": [
    "# 리스트 인덱싱과 슬라이싱 \n",
    "\n",
    "a = [1,2,3,4,5]\n",
    "\n",
    "print(a)\n",
    "print(a[-3]) # indexing \n",
    "print(a[::-1]) # slicing 역순으로 -1 칸씩 이동  \n",
    "print(a[-1::-3]) # 역순으로 끝 자리 수부터 -3칸씩 이동\n",
    "print(a[-1::3])"
   ]
  },
  {
   "cell_type": "code",
   "execution_count": 20,
   "id": "c6e17d73-a066-4584-91ec-0eb6bf76e5d3",
   "metadata": {},
   "outputs": [
    {
     "name": "stdout",
     "output_type": "stream",
     "text": [
      "[1, 2, 3, ['활용도가 높아서', '가독성이 좋아요', '쉬워서']]\n",
      "['활용도가 높아서', '가독성이 좋아요', '쉬워서']\n",
      "활용도가 높아서\n",
      "['가독성이 좋아요', '쉬워서']\n",
      "['활용도가 높아서']\n"
     ]
    }
   ],
   "source": [
    "# 중첩 리스트 - 인덱싱과 슬라이싱 \n",
    "\n",
    "shp_ = [1,2,3,[\"활용도가 높아서\", \"가독성이 좋아요\", \"쉬워서\"]]\n",
    "\n",
    "print(shp_)\n",
    "print(shp_[3])\n",
    "print(shp_[3][0])\n",
    "print(shp_[3][1:])\n",
    "print(shp_[3][:1])"
   ]
  },
  {
   "cell_type": "code",
   "execution_count": 21,
   "id": "9a24f1cc-5a0e-4382-943e-b69707615d95",
   "metadata": {},
   "outputs": [
    {
     "name": "stdout",
     "output_type": "stream",
     "text": [
      "[1, 2, 10, 4, 5]\n"
     ]
    }
   ],
   "source": [
    "# 리스트 요소의 수정과 삭제 \n",
    "\n",
    "a = [1,2,3,4,5]\n",
    "a[2] = 10\n",
    "\n",
    "print(a)"
   ]
  },
  {
   "cell_type": "code",
   "execution_count": 22,
   "id": "bae19c72-f630-493f-a54e-3d34ef4b5d3c",
   "metadata": {},
   "outputs": [],
   "source": [
    "del a[4]"
   ]
  },
  {
   "cell_type": "code",
   "execution_count": 23,
   "id": "a0d6243e-4542-482b-a102-5f481fc8fbcb",
   "metadata": {},
   "outputs": [
    {
     "name": "stdout",
     "output_type": "stream",
     "text": [
      "[1, 2, 10, 4]\n"
     ]
    }
   ],
   "source": [
    "print(a)"
   ]
  },
  {
   "cell_type": "code",
   "execution_count": 24,
   "id": "6c45a523-498a-40a3-b2ff-6608facde344",
   "metadata": {},
   "outputs": [
    {
     "name": "stdout",
     "output_type": "stream",
     "text": [
      "[1, 2, 10, 4, 10]\n"
     ]
    }
   ],
   "source": [
    "# 리스트의 요소 추가 \n",
    "\n",
    "a\n",
    "a.append(10)\n",
    "print(a) "
   ]
  },
  {
   "cell_type": "code",
   "execution_count": 25,
   "id": "6f260265-191d-43e2-bb4f-6c3edea0a765",
   "metadata": {},
   "outputs": [
    {
     "name": "stdout",
     "output_type": "stream",
     "text": [
      "[1, 2, 4, 10, 10]\n"
     ]
    }
   ],
   "source": [
    "# 리스트 정렬 (sort)\n",
    "\n",
    "a.sort()\n",
    "print(a)"
   ]
  },
  {
   "cell_type": "code",
   "execution_count": 26,
   "id": "f3125f8f-e85f-4589-a1e2-db746e8550f4",
   "metadata": {},
   "outputs": [
    {
     "name": "stdout",
     "output_type": "stream",
     "text": [
      "[1, 2, 4, 10]\n"
     ]
    }
   ],
   "source": [
    "# 리스트 요소 제거 \n",
    "a.remove(10)\n",
    "\n",
    "print(a)"
   ]
  },
  {
   "cell_type": "code",
   "execution_count": 27,
   "id": "96183344-f925-4bc0-a6bf-01dc75e45e30",
   "metadata": {},
   "outputs": [
    {
     "name": "stdout",
     "output_type": "stream",
     "text": [
      "[1, 2, 4]\n"
     ]
    }
   ],
   "source": [
    "# 리스트 요소 추출(뽑기) \n",
    "\n",
    "a.pop(-1)  # index로 접근 \n",
    "print(a)"
   ]
  },
  {
   "cell_type": "code",
   "execution_count": 28,
   "id": "19f13ea8-3393-49f6-b663-64e95b0f5482",
   "metadata": {},
   "outputs": [
    {
     "name": "stdout",
     "output_type": "stream",
     "text": [
      "[1, 2]\n"
     ]
    }
   ],
   "source": [
    "a.pop()\n",
    "print(a)"
   ]
  },
  {
   "cell_type": "code",
   "execution_count": 29,
   "id": "e345f602-ece4-466f-9345-7d7ec01ed6fa",
   "metadata": {},
   "outputs": [
    {
     "name": "stdout",
     "output_type": "stream",
     "text": [
      "[1, 10, 2]\n"
     ]
    }
   ],
   "source": [
    "# 리스트 요소 삽입 \n",
    "a.insert(1, 10) \n",
    "print(a)"
   ]
  },
  {
   "cell_type": "code",
   "execution_count": 30,
   "id": "0268cc22-2c2c-4dc7-b60a-c921df11f90e",
   "metadata": {},
   "outputs": [
    {
     "name": "stdout",
     "output_type": "stream",
     "text": [
      "[1, 10, 2, 4]\n"
     ]
    }
   ],
   "source": [
    "a.append(4) \n",
    "print(a)"
   ]
  },
  {
   "cell_type": "code",
   "execution_count": 31,
   "id": "686ec511-ae07-4b1e-a4b3-83ca779c21a4",
   "metadata": {},
   "outputs": [
    {
     "name": "stdout",
     "output_type": "stream",
     "text": [
      "[1, 10, 2, 4]\n",
      "1\n"
     ]
    }
   ],
   "source": [
    "# 리스트 요소 개수 세기 \n",
    "a\n",
    "b = a.count(4)\n",
    "print(a)\n",
    "print(b)"
   ]
  },
  {
   "cell_type": "code",
   "execution_count": 32,
   "id": "96f39c1a-588f-4cce-adb9-59384357f455",
   "metadata": {},
   "outputs": [
    {
     "name": "stdout",
     "output_type": "stream",
     "text": [
      "[1, 10, 2, 4]\n",
      "1\n",
      "0\n"
     ]
    }
   ],
   "source": [
    "# 리스트의 위치 반환 \n",
    "\n",
    "print(a)\n",
    "\n",
    "b = a.index(10)\n",
    "c = a.index(1)\n",
    "\n",
    "print(b)\n",
    "print(c)"
   ]
  },
  {
   "cell_type": "markdown",
   "id": "6f8b9b25-aac1-4df8-b7ba-fe75c1780d35",
   "metadata": {},
   "source": [
    "튜플 "
   ]
  },
  {
   "cell_type": "code",
   "execution_count": 33,
   "id": "938fb95c-40ea-4302-a43e-b550499a83bb",
   "metadata": {},
   "outputs": [
    {
     "name": "stdout",
     "output_type": "stream",
     "text": [
      "(1, 2, 3, 4, 5, 1, 2, 3, 4, 5, 'a', 'b', 'c')\n",
      "13\n"
     ]
    }
   ],
   "source": [
    "a =(1,2,3,4,5)\n",
    "b = ('a','b','c')\n",
    "\n",
    "c = a*2 + b\n",
    "d = len(c)\n",
    "\n",
    "print(c)\n",
    "print(d)"
   ]
  },
  {
   "cell_type": "code",
   "execution_count": 34,
   "id": "cccdfc18-815d-49da-9027-2030673c1ffe",
   "metadata": {},
   "outputs": [
    {
     "name": "stdout",
     "output_type": "stream",
     "text": [
      "1\n",
      "('a', 'b', 'c')\n"
     ]
    }
   ],
   "source": [
    "# 튜플 인덱싱과 슬라이싱 \n",
    "# 순서가 있기 때문에 \n",
    "\n",
    "print(c[0])\n",
    "print(c[-3:])"
   ]
  },
  {
   "cell_type": "markdown",
   "id": "676646e4-07b3-44fd-92bd-30d573ab48ad",
   "metadata": {},
   "source": [
    "딕셔너리 "
   ]
  },
  {
   "cell_type": "code",
   "execution_count": 35,
   "id": "dc40b423-0440-4590-9f97-e02ef32944fc",
   "metadata": {},
   "outputs": [
    {
     "name": "stdout",
     "output_type": "stream",
     "text": [
      "{'name': 'drwill', 'age': 30, 'birth': [10, 26]}\n",
      "drwill\n",
      "[10, 26]\n"
     ]
    }
   ],
   "source": [
    "a = {'name': \"drwill\", \"age\": 30, \"birth\" : [10, 26]}\n",
    "\n",
    "print(a)\n",
    "\n",
    "# key로 접근 \n",
    "print(a['name']) \n",
    "print(a['birth'])"
   ]
  },
  {
   "cell_type": "code",
   "execution_count": 36,
   "id": "a83c850f-836f-4adc-b75c-e2bfbeff1300",
   "metadata": {},
   "outputs": [
    {
     "name": "stdout",
     "output_type": "stream",
     "text": [
      "{'name': 'zzuyu'}\n",
      "{'name': 'zzuyu', 'age': 20, 'house': 'apt', 'contact': '010-1234-5678'}\n",
      "{'name': 'zzuyu', 'age': 20, 'house': 'apt'}\n"
     ]
    }
   ],
   "source": [
    "# 딕셔너리 key - value 추가와 삭제\n",
    "\n",
    "a = {'name' : 'zzuyu'}\n",
    "print(a)\n",
    "\n",
    "a['age'] = 20\n",
    "a['house'] = 'apt'\n",
    "a['contact'] = '010-1234-5678'\n",
    "\n",
    "print(a)\n",
    "\n",
    "del a['contact']\n",
    "\n",
    "print(a)"
   ]
  },
  {
   "cell_type": "code",
   "execution_count": 37,
   "id": "c6ce90db-158d-4cad-81b7-767a93e852aa",
   "metadata": {},
   "outputs": [
    {
     "name": "stdout",
     "output_type": "stream",
     "text": [
      "{'name': 'zzuyi'}\n"
     ]
    }
   ],
   "source": [
    "# 딕셔너리 key 중복 \n",
    "a = {'name' : 'drwill', 'name' : 'zzuyi'}\n",
    "\n",
    "print(a)"
   ]
  },
  {
   "cell_type": "code",
   "execution_count": 38,
   "id": "9a0ed8ca-ffff-44ee-bb8e-7319b160f0cb",
   "metadata": {},
   "outputs": [
    {
     "data": {
      "text/plain": [
       "['name', 'age', 'house', 'contact']"
      ]
     },
     "execution_count": 38,
     "metadata": {},
     "output_type": "execute_result"
    }
   ],
   "source": [
    "# 딕셔너리 key 리스트 생성 \n",
    "\n",
    "여친 = {'name': 'zzuyu', 'age': 20, 'house': 'apt', 'contact': '010-1234-5678'}\n",
    "여친_정보 = 여친.keys()\n",
    "list(여친_정보)"
   ]
  },
  {
   "cell_type": "code",
   "execution_count": 39,
   "id": "2803d61c-d547-4ed5-8dcb-9b4e5129d79c",
   "metadata": {},
   "outputs": [
    {
     "data": {
      "text/plain": [
       "['zzuyu', 20, 'apt', '010-1234-5678']"
      ]
     },
     "execution_count": 39,
     "metadata": {},
     "output_type": "execute_result"
    }
   ],
   "source": [
    "# 딕셔너리 value 리스트 생성 \n",
    "\n",
    "여친\n",
    "여친.values()\n",
    "list(여친.values())"
   ]
  },
  {
   "cell_type": "code",
   "execution_count": 40,
   "id": "ffe561fc-c726-4bd6-b9ab-a2b933b7fc83",
   "metadata": {},
   "outputs": [
    {
     "data": {
      "text/plain": [
       "[('name', 'zzuyu'),\n",
       " ('age', 20),\n",
       " ('house', 'apt'),\n",
       " ('contact', '010-1234-5678')]"
      ]
     },
     "execution_count": 40,
     "metadata": {},
     "output_type": "execute_result"
    }
   ],
   "source": [
    "# 딕셔너리 k-v 리스트 만들기 \n",
    "\n",
    "여친 \n",
    "여친.items()\n",
    "list(여친.items())"
   ]
  },
  {
   "cell_type": "code",
   "execution_count": 41,
   "id": "4749b506-a780-4675-8e0e-edfef672c431",
   "metadata": {},
   "outputs": [
    {
     "name": "stdout",
     "output_type": "stream",
     "text": [
      "{'name': 'zzuyu', 'age': 20, 'house': 'apt', 'contact': '010-1234-5678'}\n",
      "zzuyu\n",
      "zzuyu\n",
      "None\n",
      "No data\n"
     ]
    }
   ],
   "source": [
    "# 딕셔너리 key 로 값 호출 하기 \n",
    "\n",
    "print(여친)\n",
    "\n",
    "b = 여친.get('name')\n",
    "c = 여친['name']\n",
    "d = 여친.get('birth')  # 없는 key 입력 >> None 반환 \n",
    "# e = 여친['birth']  #  key 에러 발생\n",
    "f = 여친.get('birth', 'No data')\n",
    "\n",
    "\n",
    "print(b)\n",
    "print(c)\n",
    "print(d)\n",
    "# print(e)\n",
    "print(f)"
   ]
  },
  {
   "cell_type": "markdown",
   "id": "87fa4af1-2dfa-40f3-9223-59fabdd172c9",
   "metadata": {},
   "source": [
    "집합 자료형 set()"
   ]
  },
  {
   "cell_type": "code",
   "execution_count": 42,
   "id": "fe36e62b-f973-4a25-a135-d5c2abbd90a7",
   "metadata": {},
   "outputs": [
    {
     "name": "stdout",
     "output_type": "stream",
     "text": [
      "{1, 2, 3, 4}\n",
      "{'p', 'm', 's', 'l', 'd', 'u', 'a', ' ', 'b', 'g', 'c', 'i', 't'}\n"
     ]
    }
   ],
   "source": [
    "a = {1,2,3,4,2,1,1}\n",
    "b = set(a) # 중복 제거 \n",
    "c = set(\"multi campus bigdata class\")\n",
    "\n",
    "print(b)\n",
    "print(c)"
   ]
  },
  {
   "cell_type": "code",
   "execution_count": 43,
   "id": "d738c97a-632e-44eb-ab62-b2453fb753d3",
   "metadata": {},
   "outputs": [
    {
     "name": "stdout",
     "output_type": "stream",
     "text": [
      "{1, 2, 3}\n",
      "[1, 2, 3]\n",
      "(1, 2, 3)\n"
     ]
    }
   ],
   "source": [
    "# 집합 자료형 변환 \n",
    "\n",
    "a = set([1,2,3])\n",
    "b = list(a)\n",
    "c = tuple(b)\n",
    "\n",
    "print(a)\n",
    "print(b)\n",
    "print(c)"
   ]
  },
  {
   "cell_type": "code",
   "execution_count": 44,
   "id": "4ca1acd4-1787-4f99-af5e-6d4d486c1148",
   "metadata": {},
   "outputs": [
    {
     "name": "stdout",
     "output_type": "stream",
     "text": [
      "3\n",
      "(1, 2)\n"
     ]
    }
   ],
   "source": [
    "# 인덱싱, 슬라이싱 되나?\n",
    "\n",
    "# print(a[2])  \n",
    "# type error 발생 >> 왜? 순서가 없으니깐 \n",
    "\n",
    "print(b[-1]) \n",
    "print(c[:2])"
   ]
  },
  {
   "cell_type": "code",
   "execution_count": 45,
   "id": "de9709eb-433e-4c6d-adfc-d4feb73c905c",
   "metadata": {},
   "outputs": [
    {
     "name": "stdout",
     "output_type": "stream",
     "text": [
      "{3, 4, 5}\n",
      "{3, 4, 5}\n",
      "{3, 4, 5, 6, 7}\n"
     ]
    }
   ],
   "source": [
    "# 집합 자료형 교집합, 합집합, 차집합 \n",
    "\n",
    "a = set([1,2,3,4,5])\n",
    "b = set([3,4,5,6,7])\n",
    "\n",
    "c = a & b  # 교집합 (and)\n",
    "d = a.intersection(b) # 교집합\n",
    "e = a and b # 교집합이 아님(집합에서 사용 안함)\n",
    "\n",
    "print(c) ; print(d) ; print(e)\n",
    "\n",
    "# 왜 e를 print 하면 틀리게 나올까?\n",
    "# 'and'연산자는 논리 연산에서 사용 \n",
    "# 여기서는 a와 b 는 값이 있음 : True \n",
    "# a가 거짓(False) 면 a 반환 \n",
    "# a가 참(True) 면 b 반환 "
   ]
  },
  {
   "cell_type": "code",
   "execution_count": 46,
   "id": "ea8702cc-54c3-4ef7-a3ee-d5a4171c9712",
   "metadata": {},
   "outputs": [
    {
     "name": "stdout",
     "output_type": "stream",
     "text": [
      "{1, 2, 3, 4, 5, 6, 7}\n",
      "{1, 2, 3, 4, 5, 6, 7}\n",
      "{1, 2, 3, 4, 5}\n"
     ]
    }
   ],
   "source": [
    "# 집합 자료형 합집합 \n",
    "\n",
    "a = set([1,2,3,4,5])\n",
    "b = set([3,4,5,6,7])\n",
    "\n",
    "c = a | b       # 합집합\n",
    "d = a.union(b)  # 합집합\n",
    "\n",
    "e = a or b  # 논리연산자라 집합에 사용 못함 \n",
    "\n",
    "print(c)\n",
    "print(d)\n",
    "print(e)"
   ]
  },
  {
   "cell_type": "code",
   "execution_count": 47,
   "id": "1207f561-c44a-4e93-9b6b-eb77b796314e",
   "metadata": {},
   "outputs": [
    {
     "name": "stdout",
     "output_type": "stream",
     "text": [
      "{1, 2}\n",
      "{1, 2}\n"
     ]
    }
   ],
   "source": [
    "# 집합 자료형 차집합 \n",
    "\n",
    "a = set([1,2,3,4,5])\n",
    "b = set([3,4,5,6,7])\n",
    "\n",
    "c = a-b\n",
    "d = a.difference(b)\n",
    "\n",
    "print(c) ; print(d)"
   ]
  },
  {
   "cell_type": "markdown",
   "id": "3c54db32-c4d1-427f-af48-0d67416e5060",
   "metadata": {},
   "source": [
    "논리 자료형 "
   ]
  },
  {
   "cell_type": "code",
   "execution_count": 48,
   "id": "2fd0a520-7333-42c8-b116-7c55e57a0a1b",
   "metadata": {},
   "outputs": [
    {
     "name": "stdout",
     "output_type": "stream",
     "text": [
      "True\n",
      "<class 'bool'>\n",
      "False\n",
      "1\n",
      "<class 'int'>\n",
      "0\n",
      "<class 'int'>\n"
     ]
    }
   ],
   "source": [
    "# 논리 자료형 특징 \n",
    "\n",
    "a = True \n",
    "b = False \n",
    "\n",
    "print(a)\n",
    "print(type(a))\n",
    "print(b)\n",
    "print(a + b)\n",
    "print(type(a+b))\n",
    "print(a * b)\n",
    "print(type(a*b))"
   ]
  },
  {
   "cell_type": "markdown",
   "id": "f9631db2-7b47-4e51-8b78-2cbf0b7879f9",
   "metadata": {},
   "source": [
    "파이썬 제어문 \n",
    "\n",
    "- 조건문 (if) \n",
    "- 반복문 (for, while)"
   ]
  },
  {
   "cell_type": "markdown",
   "id": "99c0edd7-cd6d-4426-a1ec-4433bab41bf1",
   "metadata": {},
   "source": [
    "조건문 if"
   ]
  },
  {
   "cell_type": "code",
   "execution_count": 49,
   "id": "2bbf4311-247a-49e5-bdd3-c3d62cc42a96",
   "metadata": {},
   "outputs": [
    {
     "name": "stdout",
     "output_type": "stream",
     "text": [
      "진짜야\n"
     ]
    }
   ],
   "source": [
    "# 조건문 if 기본 구조 \n",
    "\n",
    "a = True \n",
    "\n",
    "if a: \n",
    "    print(\"진짜야\")\n",
    "else: \n",
    "    print(\"가짜야\")"
   ]
  },
  {
   "cell_type": "code",
   "execution_count": 50,
   "id": "3080a17d-67fa-45bb-aa66-ef72c52d373e",
   "metadata": {},
   "outputs": [
    {
     "name": "stdout",
     "output_type": "stream",
     "text": [
      "x가 y보다 작거나 같다.\n"
     ]
    }
   ],
   "source": [
    "# 조건문 비교 연산자 \n",
    "\n",
    "x = 3 \n",
    "y = 7\n",
    "\n",
    "if x <= y: \n",
    "    print('x가 y보다 작거나 같다.') \n",
    "else: \n",
    "    print('x가 y보다 크다') "
   ]
  },
  {
   "cell_type": "code",
   "execution_count": 51,
   "id": "2f6b3acf-7841-4d6e-9814-8d1121734898",
   "metadata": {},
   "outputs": [
    {
     "name": "stdout",
     "output_type": "stream",
     "text": [
      "x가 y보다 작거나 같다\n"
     ]
    }
   ],
   "source": [
    "# 조건문 and, or, not 연산자 \n",
    "\n",
    "x = 3\n",
    "y = 7\n",
    "\n",
    "if (x == y) or (x < y) :\n",
    "    print('x가 y보다 작거나 같다')\n",
    "else: \n",
    "    print('x가 y보다 크다')"
   ]
  },
  {
   "cell_type": "code",
   "execution_count": 52,
   "id": "c0233f49-11b2-451e-9c47-38738490f055",
   "metadata": {},
   "outputs": [
    {
     "name": "stdout",
     "output_type": "stream",
     "text": [
      "데이터 존재\n"
     ]
    }
   ],
   "source": [
    "# 조건문 in, not in 연산자 \n",
    "\n",
    "x = 3 \n",
    "y = [1,2,3,4,5]\n",
    "\n",
    "if x in y: \n",
    "    print(\"데이터 존재\") \n",
    "else: \n",
    "    print(\"데이터 부재\") "
   ]
  },
  {
   "cell_type": "code",
   "execution_count": 53,
   "id": "f292ab00-0ef5-4402-a8da-af0f38abcd23",
   "metadata": {},
   "outputs": [
    {
     "name": "stdout",
     "output_type": "stream",
     "text": [
      "x가 y 보다 작다\n"
     ]
    }
   ],
   "source": [
    "# elif 활용, 조건문 기본 구조 \n",
    "\n",
    "x = 3 \n",
    "y = 7\n",
    "\n",
    "if x == y: \n",
    "    print('x와 y는 같다')\n",
    "elif x < y: \n",
    "    print('x가 y 보다 작다')\n",
    "else:\n",
    "    print('x가 y 보다 크다')"
   ]
  },
  {
   "cell_type": "markdown",
   "id": "7c6d7a0a-aea7-4e25-a84d-db1647833700",
   "metadata": {},
   "source": [
    "반복문 \n",
    "\n",
    "- while "
   ]
  },
  {
   "cell_type": "code",
   "execution_count": 54,
   "id": "382d5d70-6dd5-4827-8b02-5dcc1c97c2e7",
   "metadata": {},
   "outputs": [
    {
     "name": "stdout",
     "output_type": "stream",
     "text": [
      "a 값은 0 입니다\n",
      "a 값은 1 입니다\n",
      "a 값은 2 입니다\n",
      "a 값은 3 입니다\n",
      "a 값은 4 입니다\n",
      "종료합니다\n"
     ]
    }
   ],
   "source": [
    "# while 문 기본 구조 \n",
    "\n",
    "a = 0 \n",
    "\n",
    "while a < 5: \n",
    "    print('a 값은 %s 입니다'%a)\n",
    "    a = a + 1\n",
    "\n",
    "print(\"종료합니다\")"
   ]
  },
  {
   "cell_type": "code",
   "execution_count": 55,
   "id": "a2c5407f-070f-4c04-b06a-aa34e1dffe1f",
   "metadata": {},
   "outputs": [
    {
     "name": "stdout",
     "output_type": "stream",
     "text": [
      "바구니에서 사과 를 꺼냈습니다.\n",
      "바구니에서 바나나 를 꺼냈습니다.\n",
      "바구니에서 딸기 를 꺼냈습니다.\n",
      "바구니에 더이상 아무 것도 없네요.\n"
     ]
    }
   ],
   "source": [
    "# while 문 조건 변경 \n",
    "\n",
    "a = 0 \n",
    "b = ['사과', '바나나', '딸기'] \n",
    "\n",
    "while a < len(b): \n",
    "    print(\"바구니에서 %s 를 꺼냈습니다.\"%b[a])\n",
    "    a += 1\n",
    "\n",
    "print(\"바구니에 더이상 아무 것도 없네요.\")"
   ]
  },
  {
   "cell_type": "code",
   "execution_count": 56,
   "id": "2a7d3207-3c27-4046-a4f7-189093466b94",
   "metadata": {},
   "outputs": [
    {
     "name": "stdout",
     "output_type": "stream",
     "text": [
      "a 값은 5 입니다.\n",
      "a 값은 4 입니다.\n",
      "a 값은 3 입니다.\n",
      "종료합니다\n"
     ]
    }
   ],
   "source": [
    "# while 문 break 활용 \n",
    "\n",
    "a = 5 \n",
    "\n",
    "while a > 0 :\n",
    "    print(\"a 값은 %s 입니다.\"%a) \n",
    "    a = a - 1 # a -= 1\n",
    "\n",
    "    if a == 2: # 2이면, \n",
    "        break # 정지조건 \n",
    "\n",
    "print('종료합니다')"
   ]
  },
  {
   "cell_type": "code",
   "execution_count": 57,
   "id": "08045cb0-2aba-4fb3-882c-b000f589a8da",
   "metadata": {},
   "outputs": [
    {
     "name": "stdout",
     "output_type": "stream",
     "text": [
      "1\n",
      "3\n",
      "5\n",
      "7\n",
      "9\n"
     ]
    }
   ],
   "source": [
    "# while 문 continue 활용 \n",
    "\n",
    "a = 0 \n",
    "\n",
    "while a < 10: \n",
    "    a = a + 1 \n",
    "    if a % 2 == 0: # a 가 2의 배수면 \n",
    "        continue\n",
    "    print(a)"
   ]
  },
  {
   "cell_type": "markdown",
   "id": "90496a92-14d9-49d5-b55c-5fcba9864e91",
   "metadata": {},
   "source": [
    "for 문 "
   ]
  },
  {
   "cell_type": "code",
   "execution_count": 60,
   "id": "8da3f61a-b3c3-4512-a70c-4173e7b2a569",
   "metadata": {},
   "outputs": [
    {
     "name": "stdout",
     "output_type": "stream",
     "text": [
      "사과 바나나 딸기 "
     ]
    }
   ],
   "source": [
    "# 기본 구조 \n",
    "a = [\"사과\",\"바나나\",\"딸기\"]\n",
    "\n",
    "# for i in [\"사과\",\"바나나\",\"딸기\"]\n",
    "for i in a: \n",
    "    # print(i)\n",
    "    print(i, end=\" \")"
   ]
  },
  {
   "cell_type": "code",
   "execution_count": 64,
   "id": "c7a9969b-e57f-4289-b67f-0b294735c23a",
   "metadata": {},
   "outputs": [
    {
     "name": "stdout",
     "output_type": "stream",
     "text": [
      "90 는(은) 평균보다 크다\n",
      "25 는(은) 평균보다 작거나 같다\n",
      "67 는(은) 평균보다 크다\n",
      "45 는(은) 평균보다 작거나 같다\n",
      "80 는(은) 평균보다 크다\n"
     ]
    }
   ],
   "source": [
    "# 조건문(if)문과 for (반복문) 활용 (***) \n",
    "\n",
    "a = [90,25,67,45,80]\n",
    "b = sum(a) / len(a)\n",
    "\n",
    "for i in a: \n",
    "    if i > b:\n",
    "        print(\"%d 는(은) 평균보다 크다\"%i)\n",
    "    else:\n",
    "        print(\"%d 는(은) 평균보다 작거나 같다\"%i)"
   ]
  },
  {
   "cell_type": "code",
   "execution_count": 66,
   "id": "fca657f5-5765-4ebb-9be7-8f3c04d89051",
   "metadata": {},
   "outputs": [
    {
     "name": "stdout",
     "output_type": "stream",
     "text": [
      "24681012141618 \n",
      "369121518212427 \n",
      "4812162024283236 \n",
      "51015202530354045 \n",
      "61218243036424854 \n",
      "71421283542495663 \n",
      "81624324048566472 \n",
      "91827364554637281 \n"
     ]
    }
   ],
   "source": [
    "# for 문 range 문 활용 \n",
    "\n",
    "for i in range(2, 10): \n",
    "    for j in range(1, 10): \n",
    "        print(i * j, end=\"\") \n",
    "    print(\" \")"
   ]
  },
  {
   "cell_type": "code",
   "execution_count": 68,
   "id": "cde054ce-a585-46fe-88de-f488d2b2e143",
   "metadata": {},
   "outputs": [
    {
     "name": "stdout",
     "output_type": "stream",
     "text": [
      "[40, 30, 20, 10]\n"
     ]
    }
   ],
   "source": [
    "# for 문 list 요소 삽입 \n",
    "\n",
    "a = [1,2,3,4]\n",
    "\n",
    "result = [ ]\n",
    "\n",
    "for i in a: \n",
    "    result.insert(0, i * 10)\n",
    "    # print(result)\n",
    "\n",
    "print(result)"
   ]
  },
  {
   "cell_type": "code",
   "execution_count": null,
   "id": "7b3375d0-1020-4b9f-9b3d-3c2e35757459",
   "metadata": {},
   "outputs": [],
   "source": []
  },
  {
   "cell_type": "code",
   "execution_count": null,
   "id": "aa48961f-2390-470b-8cb1-129e69fce572",
   "metadata": {},
   "outputs": [],
   "source": []
  }
 ],
 "metadata": {
  "kernelspec": {
   "display_name": "Python 3 (ipykernel)",
   "language": "python",
   "name": "python3"
  },
  "language_info": {
   "codemirror_mode": {
    "name": "ipython",
    "version": 3
   },
   "file_extension": ".py",
   "mimetype": "text/x-python",
   "name": "python",
   "nbconvert_exporter": "python",
   "pygments_lexer": "ipython3",
   "version": "3.11.7"
  }
 },
 "nbformat": 4,
 "nbformat_minor": 5
}
