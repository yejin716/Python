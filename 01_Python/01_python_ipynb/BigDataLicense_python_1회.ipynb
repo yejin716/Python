{
 "cells": [
  {
   "cell_type": "markdown",
   "id": "79101276-6702-4bae-a9cf-44b028234548",
   "metadata": {},
   "source": [
    "변수"
   ]
  },
  {
   "cell_type": "code",
   "execution_count": 56,
   "id": "14e75551-9fc2-458f-bee5-5e291ecf69b7",
   "metadata": {},
   "outputs": [
    {
     "name": "stdout",
     "output_type": "stream",
     "text": [
      "1\n"
     ]
    }
   ],
   "source": [
    "a = 1\n",
    "\n",
    "print(a)"
   ]
  },
  {
   "cell_type": "code",
   "execution_count": 57,
   "id": "10d67f24-54e4-4478-b2c4-335040b68ba7",
   "metadata": {},
   "outputs": [
    {
     "name": "stdout",
     "output_type": "stream",
     "text": [
      "6\n"
     ]
    }
   ],
   "source": [
    "b = 6 \n",
    "a = b \n",
    "# 얕은 복사(shallow copy)\n",
    "\n",
    "print(a)"
   ]
  },
  {
   "cell_type": "markdown",
   "id": "e4ccfad8-a672-4644-b0a1-0e7606cd5908",
   "metadata": {},
   "source": [
    "데이터 타입(dtype)"
   ]
  },
  {
   "cell_type": "code",
   "execution_count": 58,
   "id": "b73a7b87-4b96-4de8-b42f-1065dccacde1",
   "metadata": {},
   "outputs": [
    {
     "name": "stdout",
     "output_type": "stream",
     "text": [
      "1 5 3.3 0.5\n",
      "<class 'int'> <class 'int'> <class 'float'> <class 'float'>\n"
     ]
    }
   ],
   "source": [
    "# 숫자형 \n",
    "\n",
    "a = 1 ; b = 5 ; c = 3.3 ; d = 0.5\n",
    "\n",
    "print(a,b,c,d)\n",
    "print(type(a), type(b), type(c), type(d))"
   ]
  },
  {
   "cell_type": "code",
   "execution_count": 59,
   "id": "7ec2c6f6-7fd2-4616-90e5-2087d0f2b9a6",
   "metadata": {},
   "outputs": [
    {
     "name": "stdout",
     "output_type": "stream",
     "text": [
      "6 -4 5 0.2\n",
      "1.0\n",
      "0.0\n",
      "1.0\n"
     ]
    }
   ],
   "source": [
    "# 파이선 연산\n",
    "print(a+b, a-b, a*b, a/b) # 사칙연산(+,-,*,/)\n",
    "print(a ** c) # 제곱 \n",
    "print(a //c)  # 몫\n",
    "print(a % c)  # 나머지 "
   ]
  },
  {
   "cell_type": "code",
   "execution_count": 60,
   "id": "3c40d777-3a9b-439f-a068-b8ff1ec5931a",
   "metadata": {},
   "outputs": [
    {
     "name": "stdout",
     "output_type": "stream",
     "text": [
      "pythonprogramming\n",
      "pythonpython\n"
     ]
    }
   ],
   "source": [
    "# 문자열 형 \n",
    "\n",
    "str1 = \"python\"\n",
    "str2 = \"programming\" \n",
    "print(str1 + str2)  # 문자열 더하기 >> 문자끼리 연결 \n",
    "print(str1 * 2)  # 문자열 곱하기 >> 문자열 반복 "
   ]
  },
  {
   "cell_type": "code",
   "execution_count": 61,
   "id": "7135b623-f5b6-42b7-8dc9-6346463fc474",
   "metadata": {},
   "outputs": [
    {
     "name": "stdout",
     "output_type": "stream",
     "text": [
      "p\n",
      "n\n",
      "18\n",
      "p\n",
      "********************\n",
      "yth\n",
      "python\n",
      "ing\n"
     ]
    }
   ],
   "source": [
    "# 문자열 인덱싱 & 슬라이싱 \n",
    "\n",
    "str = \"python programming\"\n",
    "print(str[0]) # 인덱싱 (특정 위치 값 추출)\n",
    "print(str[-2])\n",
    "print(len(str)) # 데이터 크기(길이) \n",
    "print(str[-18]) \n",
    "print(\"*\" * 20)\n",
    "\n",
    "print(str[1:4]) \n",
    "print(str[:6])\n",
    "print(str[-3:])"
   ]
  },
  {
   "cell_type": "code",
   "execution_count": 62,
   "id": "fc3f7f07-5918-4980-b82a-6d3d0ebb18b3",
   "metadata": {},
   "outputs": [
    {
     "name": "stdout",
     "output_type": "stream",
     "text": [
      "오늘은 28 일 입니다.\n",
      "오늘은 목요일 입니다.\n",
      "지금 온도는 36.500000도 입니다\n",
      "지금 온도는 36.50도 입니다\n"
     ]
    }
   ],
   "source": [
    "# 문자열 포맷팅 \n",
    "# f'{}' : f-string (강추)\n",
    "\n",
    "print(\"오늘은 %d 일 입니다.\" %28)\n",
    "print(\"오늘은 %s요일 입니다.\"%\"목\") \n",
    "print(\"지금 온도는 %f도 입니다\"%36.5)\n",
    "print(\"지금 온도는 %0.2f도 입니다\"%36.5) # 소수점 2째자리까지만 출력 "
   ]
  },
  {
   "cell_type": "markdown",
   "id": "801e43e9-e05e-4f49-b774-4ac77d9390e7",
   "metadata": {},
   "source": [
    "- %s : string 문자열 \n",
    "- %c : 단일문자(character : char)\n",
    "- %d : 정수(int)\n",
    "- %x : 16진수 "
   ]
  },
  {
   "cell_type": "code",
   "execution_count": 63,
   "id": "ee316583-0a4a-4417-958c-e9ca00f7ed35",
   "metadata": {},
   "outputs": [
    {
     "name": "stdout",
     "output_type": "stream",
     "text": [
      "2\n"
     ]
    }
   ],
   "source": [
    "# 문자열 내장 함수 \n",
    "\n",
    "# count() : 문자열 내 특정 문자 개수 세기 \n",
    "str = \"python programming\"\n",
    "print(str.count('p')) "
   ]
  },
  {
   "cell_type": "code",
   "execution_count": 64,
   "id": "bb24286d-e09c-49eb-9d6f-60b833fa2367",
   "metadata": {},
   "outputs": [
    {
     "data": {
      "text/plain": [
       "'p-y-t-h-o-n- -p-r-o-g-r-a-m-m-i-n-g'"
      ]
     },
     "execution_count": 64,
     "metadata": {},
     "output_type": "execute_result"
    }
   ],
   "source": [
    "# join() : 문자열 삽입 \n",
    "\n",
    "\"-\".join(str)"
   ]
  },
  {
   "cell_type": "code",
   "execution_count": 65,
   "id": "02e6f7f8-fd89-4b07-a933-51a0d5f727ae",
   "metadata": {},
   "outputs": [
    {
     "data": {
      "text/plain": [
       "5"
      ]
     },
     "execution_count": 65,
     "metadata": {},
     "output_type": "execute_result"
    }
   ],
   "source": [
    "# find() : 찾는 문자열 (처음 나온) 위치 반환\n",
    "\n",
    "str.find('n')"
   ]
  },
  {
   "cell_type": "code",
   "execution_count": 66,
   "id": "1a07c34a-93d7-4013-a1ac-d890ae7d9081",
   "metadata": {},
   "outputs": [
    {
     "name": "stdout",
     "output_type": "stream",
     "text": [
      "PYTHON PROGRAMMING\n"
     ]
    },
    {
     "data": {
      "text/plain": [
       "'python programming'"
      ]
     },
     "execution_count": 66,
     "metadata": {},
     "output_type": "execute_result"
    }
   ],
   "source": [
    "# upper(), lower()  대문자로 / 소문자로 변환\n",
    "\n",
    "print(str.upper())\n",
    "str2 = 'PYTHON PROGRAMMING'\n",
    "str2.lower()"
   ]
  },
  {
   "cell_type": "code",
   "execution_count": 67,
   "id": "08f723f0-2035-4202-907b-31c25b4ef49d",
   "metadata": {},
   "outputs": [
    {
     "data": {
      "text/plain": [
       "'java programming'"
      ]
     },
     "execution_count": 67,
     "metadata": {},
     "output_type": "execute_result"
    }
   ],
   "source": [
    "# replace(***) : 문자열 내 특정 값을 다른 값으로 변환 \n",
    "str.replace(\"python\", \"java\")"
   ]
  },
  {
   "cell_type": "code",
   "execution_count": 68,
   "id": "73a0db08-e16b-4b71-a025-43e7dc468d65",
   "metadata": {},
   "outputs": [
    {
     "data": {
      "text/plain": [
       "['python', 'programming']"
      ]
     },
     "execution_count": 68,
     "metadata": {},
     "output_type": "execute_result"
    }
   ],
   "source": [
    "# split(***) : 공백 또는 특정 문자를 [구분자]로 문자열 분리 \n",
    "\n",
    "str.split(\" \") # 공백 기준 분리"
   ]
  },
  {
   "cell_type": "markdown",
   "id": "2e1f7b89-888d-45a7-b5bc-e95d233203b5",
   "metadata": {},
   "source": [
    "연산자"
   ]
  },
  {
   "cell_type": "code",
   "execution_count": 69,
   "id": "3249f84e-7cd0-472f-85c9-2b4f2f1582b6",
   "metadata": {},
   "outputs": [
    {
     "name": "stdout",
     "output_type": "stream",
     "text": [
      "30\n",
      "10\n",
      "200\n",
      "2.0\n",
      "2\n",
      "0\n",
      "10240000000000\n"
     ]
    }
   ],
   "source": [
    "# 산술 연산자 \n",
    "\n",
    "a = 20 ; b = 10 \n",
    "print(a+b) # 더하기\n",
    "print(a-b) # 빼기\n",
    "print(a*b) # 곱하기\n",
    "print(a/b) # 나누기 \n",
    "print(a//b) # 몫\n",
    "print(a%b)  # 나머지 \n",
    "print(a**b) # 거듭제곱 "
   ]
  },
  {
   "cell_type": "code",
   "execution_count": 70,
   "id": "f23dc8b8-3512-4a67-af18-9d8e9393c84f",
   "metadata": {},
   "outputs": [
    {
     "name": "stdout",
     "output_type": "stream",
     "text": [
      "False\n",
      "True\n",
      "False\n",
      "False\n",
      "True\n"
     ]
    }
   ],
   "source": [
    "# 비교(관계) 연산자 \n",
    "\n",
    "print(a < b) \n",
    "# boolean(True/False)으로 출력\n",
    "print(a >= b) \n",
    "print(a <= b) \n",
    "print(a == b) # 값이 동일 \n",
    "print(a != b) # 값이 다르다"
   ]
  },
  {
   "cell_type": "code",
   "execution_count": 73,
   "id": "b30165d1-8d46-4f3b-afd9-53992168705b",
   "metadata": {},
   "outputs": [
    {
     "data": {
      "text/plain": [
       "False"
      ]
     },
     "execution_count": 73,
     "metadata": {},
     "output_type": "execute_result"
    }
   ],
   "source": [
    "# 논리 연산자 \n",
    "\n",
    "a = True \n",
    "b = False \n",
    "\n",
    "(a and b) "
   ]
  },
  {
   "cell_type": "code",
   "execution_count": 74,
   "id": "fd7dbe58-d526-4d28-950c-51c8754a9208",
   "metadata": {},
   "outputs": [
    {
     "data": {
      "text/plain": [
       "True"
      ]
     },
     "execution_count": 74,
     "metadata": {},
     "output_type": "execute_result"
    }
   ],
   "source": [
    "(a or b)  "
   ]
  },
  {
   "cell_type": "code",
   "execution_count": 75,
   "id": "86222202-0640-4578-9538-fd27e6b054c0",
   "metadata": {},
   "outputs": [
    {
     "data": {
      "text/plain": [
       "True"
      ]
     },
     "execution_count": 75,
     "metadata": {},
     "output_type": "execute_result"
    }
   ],
   "source": [
    "not b "
   ]
  },
  {
   "cell_type": "code",
   "execution_count": 80,
   "id": "17a54303-5318-44dc-abf1-eccf4b13e95a",
   "metadata": {},
   "outputs": [
    {
     "name": "stdout",
     "output_type": "stream",
     "text": [
      "20\n"
     ]
    }
   ],
   "source": [
    "# 복합 대입 연산자 \n",
    "\n",
    "a = 10 \n",
    "a = a + 10\n",
    "print(a)"
   ]
  },
  {
   "cell_type": "code",
   "execution_count": 81,
   "id": "2f187329-af0d-4310-84d9-c0225f24297f",
   "metadata": {},
   "outputs": [
    {
     "name": "stdout",
     "output_type": "stream",
     "text": [
      "30\n"
     ]
    }
   ],
   "source": [
    "a += 10  # a = a + 10\n",
    "print(a)"
   ]
  },
  {
   "cell_type": "code",
   "execution_count": 82,
   "id": "dc913bf0-9778-4120-b471-5d0011af9b5b",
   "metadata": {},
   "outputs": [
    {
     "name": "stdout",
     "output_type": "stream",
     "text": [
      "20\n"
     ]
    }
   ],
   "source": [
    "a -= 10  # a = a - 10\n",
    "print(a)"
   ]
  },
  {
   "cell_type": "code",
   "execution_count": 83,
   "id": "479c10e1-fd80-4220-b9b1-6e7d36a4973a",
   "metadata": {},
   "outputs": [
    {
     "name": "stdout",
     "output_type": "stream",
     "text": [
      "200\n"
     ]
    }
   ],
   "source": [
    "a *= 10  # a = a*10\n",
    "print(a)"
   ]
  },
  {
   "cell_type": "code",
   "execution_count": 84,
   "id": "0d5be89a-fa64-4963-89fc-480687eace23",
   "metadata": {},
   "outputs": [
    {
     "name": "stdout",
     "output_type": "stream",
     "text": [
      "20.0\n"
     ]
    }
   ],
   "source": [
    "a /= 10  # a = a/10\n",
    "print(a)"
   ]
  },
  {
   "cell_type": "markdown",
   "id": "a55e5824-a4b4-4ccc-a36c-3bd1a96bd19e",
   "metadata": {},
   "source": [
    "조건문과 반복문"
   ]
  },
  {
   "cell_type": "code",
   "execution_count": 86,
   "id": "91fc89f2-7d31-4ad7-b1b7-e6fd140b855b",
   "metadata": {},
   "outputs": [
    {
     "name": "stdout",
     "output_type": "stream",
     "text": [
      "a는 양의 정수입니다.\n"
     ]
    }
   ],
   "source": [
    "# 조건문 \n",
    "\n",
    "# if 조건문 \n",
    "a = 10 \n",
    "if (a > 0): \n",
    "    print(\"a는 양의 정수입니다.\") "
   ]
  },
  {
   "cell_type": "code",
   "execution_count": 90,
   "id": "1f8d2ab9-8267-4cce-8efe-66e9ebb45291",
   "metadata": {},
   "outputs": [],
   "source": [
    "a = 10 \n",
    "if (a < 0): \n",
    "    print(\"a는 양의 정수입니다.\") \n",
    "\n",
    "# 아무 것도 안 나옴(왜 if 절 조건이 True 가 아니기 때문)"
   ]
  },
  {
   "cell_type": "code",
   "execution_count": 88,
   "id": "ad018c5f-9fa9-4ed8-b457-0483b963d6ff",
   "metadata": {},
   "outputs": [
    {
     "name": "stdout",
     "output_type": "stream",
     "text": [
      "10\n"
     ]
    }
   ],
   "source": [
    "a = 10 \n",
    "if (a < 0): \n",
    "    print(\"a는 양의 정수입니다.\") \n",
    "\n",
    "print(a)"
   ]
  },
  {
   "cell_type": "code",
   "execution_count": 91,
   "id": "49928eb2-f43d-44c9-993e-eb371e136e25",
   "metadata": {},
   "outputs": [
    {
     "name": "stdout",
     "output_type": "stream",
     "text": [
      "b는 -10입니다.\n",
      "b는 음의 정수입니다.\n"
     ]
    }
   ],
   "source": [
    "# if ~ else \n",
    "\n",
    "b = -10\n",
    "\n",
    "if (b > 0): \n",
    "    print(\"b는 %d입니다.\"%b) \n",
    "    print(\"b는 양의 정수입니다.\")\n",
    "\n",
    "else: \n",
    "    print(\"b는 %d입니다.\"%b) \n",
    "    print(\"b는 음의 정수입니다.\")"
   ]
  },
  {
   "cell_type": "code",
   "execution_count": 92,
   "id": "30f2cf50-2c11-46ee-8f34-74ab88ec9b72",
   "metadata": {},
   "outputs": [
    {
     "name": "stdout",
     "output_type": "stream",
     "text": [
      "a는 음의 정수입니다.\n"
     ]
    }
   ],
   "source": [
    "# if ~ elif ~ else\n",
    "\n",
    "a = -10 \n",
    "\n",
    "if (a > 0):\n",
    "    print(\"a는 양의 정수입니다.\") \n",
    "elif (a == 0): \n",
    "    print(\"a는 0 입니다.\") \n",
    "else: \n",
    "    print(\"a는 음의 정수입니다.\") "
   ]
  },
  {
   "cell_type": "code",
   "execution_count": 93,
   "id": "0942109d-5dc2-46b7-a78d-59bdaa758f29",
   "metadata": {},
   "outputs": [
    {
     "name": "stdin",
     "output_type": "stream",
     "text": [
      "첫번째 수를 입력하세요:  20\n",
      "두번째 수를 입력하세요:  50\n",
      "세번째 수를 입력하세요:  30\n"
     ]
    },
    {
     "name": "stdout",
     "output_type": "stream",
     "text": [
      "가장 큰 수는 50입니다\n"
     ]
    }
   ],
   "source": [
    "### 실제 코딩 테스트에 나온 문제 풀어보는 즐거운 코딩 시간 \n",
    "\n",
    "# a,b,c 세 정수형 변수\n",
    "# 이 중에서 가장 큰 수(big) 찾아서 출력하기 \n",
    "# 사용자 입력을 받으세요 >> input()\n",
    "\n",
    "a = int(input(\"첫번째 수를 입력하세요: \"))\n",
    "b = int(input(\"두번째 수를 입력하세요: \"))\n",
    "c = int(input(\"세번째 수를 입력하세요: \"))\n",
    "\n",
    "# a와 b를 비교 >> big \n",
    "if (a >= b): \n",
    "    big = a\n",
    "else:\n",
    "    big = b\n",
    "\n",
    "# c와 big 을 비교 >> 더 큰 값 출력 \n",
    "if (c >= big):\n",
    "    print(\"가장 큰 수는 %d입니다\"%c)\n",
    "else: \n",
    "    print(\"가장 큰 수는 %d입니다\"%big)\n",
    "\n",
    "# 출력결과 \n",
    "# 첫번째 수를 입력하세요:\n",
    "# 두번째 수를 입력하세요:\n",
    "# 세번째 수를 입력하세요:\n",
    "# 가장 큰 수는 (숫자) 입니다. "
   ]
  },
  {
   "cell_type": "code",
   "execution_count": 98,
   "id": "52066c70-d9f6-4fa0-b85d-2511f470d97a",
   "metadata": {},
   "outputs": [
    {
     "name": "stdin",
     "output_type": "stream",
     "text": [
      "첫번째 수를 입력하세요:  20\n",
      "두번째 수를 입력하세요:  30\n",
      "세번째 수를 입력하세요:  50\n"
     ]
    },
    {
     "name": "stdout",
     "output_type": "stream",
     "text": [
      "가장 큰 수는 50\n"
     ]
    }
   ],
   "source": [
    "# 교육생 작품\n",
    "a = int(input(\"첫번째 수를 입력하세요: \"))\n",
    "b = int(input(\"두번째 수를 입력하세요: \"))\n",
    "c = int(input(\"세번째 수를 입력하세요: \"))\n",
    "\n",
    "if (a >= b):\n",
    "    big = a\n",
    "else:\n",
    "    big = b\n",
    "    \n",
    "if ( c >= big):\n",
    "    big = c\n",
    "else:\n",
    "    big\n",
    "    \n",
    "print(\"가장 큰 수는\",big)"
   ]
  },
  {
   "cell_type": "code",
   "execution_count": 99,
   "id": "07fcdb51-6f2b-4d16-9eaf-ffada53620e0",
   "metadata": {},
   "outputs": [
    {
     "name": "stdin",
     "output_type": "stream",
     "text": [
      "첫번째 수를 입력하세요:  50\n",
      "두번째 수를 입력하세요:  30\n",
      "세번째 수를 입력하세요:  20\n"
     ]
    },
    {
     "name": "stdout",
     "output_type": "stream",
     "text": [
      "가장 큰 수는 50입니다.\n"
     ]
    }
   ],
   "source": [
    "a = int(input(\"첫번째 수를 입력하세요: \"))\n",
    "b = int(input(\"두번째 수를 입력하세요: \"))\n",
    "c = int(input(\"세번째 수를 입력하세요: \"))\n",
    "\n",
    "if(a >= b):\n",
    "    big = a\n",
    "else:\n",
    "    big = b\n",
    "    \n",
    "if(c >= big):\n",
    "    big = c\n",
    "    print(\"가장 큰 수는 %d입니다.\"%big)\n",
    "else:\n",
    "    big = big\n",
    "    print(\"가장 큰 수는 %d입니다.\"%big)"
   ]
  },
  {
   "cell_type": "code",
   "execution_count": 100,
   "id": "90b13f7a-dbcd-40f8-b510-11ac31aa0cfa",
   "metadata": {},
   "outputs": [
    {
     "name": "stdin",
     "output_type": "stream",
     "text": [
      "첫번째 수를 입력하세요:  30\n",
      "두번째 수를 입력하세요:  20\n",
      "세번째 수를 입력하세요:  50\n"
     ]
    },
    {
     "name": "stdout",
     "output_type": "stream",
     "text": [
      "가장 큰 수: 50\n"
     ]
    }
   ],
   "source": [
    "a = int(input(\"첫번째 수를 입력하세요: \"))\n",
    "b = int(input(\"두번째 수를 입력하세요: \"))\n",
    "c = int(input(\"세번째 수를 입력하세요: \"))\n",
    "\n",
    "big = a\n",
    "\n",
    "if (a < b):\n",
    "    big = b\n",
    "if (c > big):\n",
    "    big = c\n",
    "print(\"가장 큰 수:\", big) "
   ]
  },
  {
   "cell_type": "code",
   "execution_count": 102,
   "id": "3ee2edaf-21ae-4240-97e4-4660f5dff541",
   "metadata": {},
   "outputs": [
    {
     "name": "stdout",
     "output_type": "stream",
     "text": [
      "가장 큰 수를 찾는 프로그램\n",
      "첫번째 수를 입력하시오\n"
     ]
    },
    {
     "name": "stdin",
     "output_type": "stream",
     "text": [
      " -30\n"
     ]
    },
    {
     "name": "stdout",
     "output_type": "stream",
     "text": [
      "두번째 수를 입력하시오\n"
     ]
    },
    {
     "name": "stdin",
     "output_type": "stream",
     "text": [
      " -20\n"
     ]
    },
    {
     "name": "stdout",
     "output_type": "stream",
     "text": [
      "세번째 수를 입력하시오\n"
     ]
    },
    {
     "name": "stdin",
     "output_type": "stream",
     "text": [
      " -50\n"
     ]
    },
    {
     "name": "stdout",
     "output_type": "stream",
     "text": [
      "가장 큰 수는 -20입니다.\n"
     ]
    }
   ],
   "source": [
    "def find_largest_number(a, b, c):\n",
    "    big = 0\n",
    "    \n",
    "    if a > b:\n",
    "        big = a\n",
    "    elif a == b:\n",
    "        big = a\n",
    "    else:\n",
    "        big = b\n",
    "        \n",
    "    if c >= big:\n",
    "        big = c\n",
    "    return big\n",
    "    \n",
    "print(\"가장 큰 수를 찾는 프로그램\")\n",
    "print(\"첫번째 수를 입력하시오\")\n",
    "a = int(input())\n",
    "print(\"두번째 수를 입력하시오\")\n",
    "b = int(input())\n",
    "print(\"세번째 수를 입력하시오\")\n",
    "c = int(input())\n",
    "largest_number = find_largest_number(a, b, c)\n",
    "print(f\"가장 큰 수는 {largest_number}입니다.\")"
   ]
  },
  {
   "cell_type": "markdown",
   "id": "160c55b3-e24d-4770-97ad-cded68de4ee3",
   "metadata": {},
   "source": [
    "반복문"
   ]
  },
  {
   "cell_type": "code",
   "execution_count": 103,
   "id": "a8163105-327e-4892-b576-3ea4148ae2ce",
   "metadata": {},
   "outputs": [
    {
     "name": "stdout",
     "output_type": "stream",
     "text": [
      "python programming\n",
      "python programming\n",
      "python programming\n",
      "python programming\n",
      "python programming\n"
     ]
    }
   ],
   "source": [
    "# for 문 \n",
    "\n",
    "for i in range(5): \n",
    "    print(\"python programming\") "
   ]
  },
  {
   "cell_type": "code",
   "execution_count": 104,
   "id": "e696dea9-df11-4b1c-88f5-3b92b4f1de02",
   "metadata": {},
   "outputs": [
    {
     "name": "stdout",
     "output_type": "stream",
     "text": [
      "i의 값: 1, 합계: 1\n",
      "i의 값: 2, 합계: 3\n",
      "i의 값: 3, 합계: 6\n",
      "i의 값: 4, 합계: 10\n",
      "i의 값: 5, 합계: 15\n"
     ]
    }
   ],
   "source": [
    "sum = 0 # 초기화 \n",
    "\n",
    "for i in range(1,6): \n",
    "    sum = sum + i\n",
    "    print(\"i의 값: %d, 합계: %d\"%(i, sum)) "
   ]
  },
  {
   "cell_type": "code",
   "execution_count": 108,
   "id": "5ff79fbd-a9ff-4592-bace-45b52955f192",
   "metadata": {},
   "outputs": [
    {
     "name": "stdout",
     "output_type": "stream",
     "text": [
      "1 3 5 7 9 "
     ]
    }
   ],
   "source": [
    "for i in range(1, 10, 2): \n",
    "    print(i, end=' ')\n",
    "    # print(i)\n",
    "    # end = ' ' >> 결과값을 한 줄로 공백(' ') 으로 구분하여 출력 "
   ]
  },
  {
   "cell_type": "code",
   "execution_count": 110,
   "id": "55bebb34-c890-4b1d-b55b-6338e7b50e74",
   "metadata": {},
   "outputs": [
    {
     "name": "stdout",
     "output_type": "stream",
     "text": [
      "m u l t i - c a m p u s "
     ]
    }
   ],
   "source": [
    "for char in \"multi-campus\" : \n",
    "    print(char, end=' ')"
   ]
  },
  {
   "cell_type": "code",
   "execution_count": 116,
   "id": "cdeab64f-5a0f-4812-9a18-c48a88de5cdf",
   "metadata": {},
   "outputs": [
    {
     "name": "stdout",
     "output_type": "stream",
     "text": [
      "1 2 3 4 \n",
      "2 4 6 8 \n",
      "3 6 9 12 \n",
      "4 8 12 16 \n"
     ]
    }
   ],
   "source": [
    "# 이중 for 문 (for 문 중첩) \n",
    "\n",
    "for i in range(1,5): \n",
    "    for j in range(1,5):\n",
    "        print(i * j, end= ' ') \n",
    "    # print('*' * 10)\n",
    "    print()"
   ]
  },
  {
   "cell_type": "code",
   "execution_count": 118,
   "id": "d4d4eb31-578c-4db3-a40e-cf76dc9b531c",
   "metadata": {},
   "outputs": [
    {
     "name": "stdout",
     "output_type": "stream",
     "text": [
      "2 * 1 = 2\n",
      "2 * 2 = 4\n",
      "2 * 3 = 6\n",
      "2 * 4 = 8\n",
      "2 * 5 = 10\n",
      "2 * 6 = 12\n",
      "2 * 7 = 14\n",
      "2 * 8 = 16\n",
      "2 * 9 = 18\n",
      "********************\n",
      "3 * 1 = 3\n",
      "3 * 2 = 6\n",
      "3 * 3 = 9\n",
      "3 * 4 = 12\n",
      "3 * 5 = 15\n",
      "3 * 6 = 18\n",
      "3 * 7 = 21\n",
      "3 * 8 = 24\n",
      "3 * 9 = 27\n",
      "********************\n",
      "4 * 1 = 4\n",
      "4 * 2 = 8\n",
      "4 * 3 = 12\n",
      "4 * 4 = 16\n",
      "4 * 5 = 20\n",
      "4 * 6 = 24\n",
      "4 * 7 = 28\n",
      "4 * 8 = 32\n",
      "4 * 9 = 36\n",
      "********************\n",
      "5 * 1 = 5\n",
      "5 * 2 = 10\n",
      "5 * 3 = 15\n",
      "5 * 4 = 20\n",
      "5 * 5 = 25\n",
      "5 * 6 = 30\n",
      "5 * 7 = 35\n",
      "5 * 8 = 40\n",
      "5 * 9 = 45\n",
      "********************\n",
      "6 * 1 = 6\n",
      "6 * 2 = 12\n",
      "6 * 3 = 18\n",
      "6 * 4 = 24\n",
      "6 * 5 = 30\n",
      "6 * 6 = 36\n",
      "6 * 7 = 42\n",
      "6 * 8 = 48\n",
      "6 * 9 = 54\n",
      "********************\n",
      "7 * 1 = 7\n",
      "7 * 2 = 14\n",
      "7 * 3 = 21\n",
      "7 * 4 = 28\n",
      "7 * 5 = 35\n",
      "7 * 6 = 42\n",
      "7 * 7 = 49\n",
      "7 * 8 = 56\n",
      "7 * 9 = 63\n",
      "********************\n",
      "8 * 1 = 8\n",
      "8 * 2 = 16\n",
      "8 * 3 = 24\n",
      "8 * 4 = 32\n",
      "8 * 5 = 40\n",
      "8 * 6 = 48\n",
      "8 * 7 = 56\n",
      "8 * 8 = 64\n",
      "8 * 9 = 72\n",
      "********************\n",
      "9 * 1 = 9\n",
      "9 * 2 = 18\n",
      "9 * 3 = 27\n",
      "9 * 4 = 36\n",
      "9 * 5 = 45\n",
      "9 * 6 = 54\n",
      "9 * 7 = 63\n",
      "9 * 8 = 72\n",
      "9 * 9 = 81\n",
      "********************\n"
     ]
    }
   ],
   "source": [
    "# 구구단 출력 \n",
    "\n",
    "for i in range(2,10): \n",
    "    for j in range(1,10): \n",
    "        print(\"%d * %d = %d\"% (i, j, i*j)) \n",
    "    print('*'*20)"
   ]
  },
  {
   "cell_type": "code",
   "execution_count": 120,
   "id": "14706f01-e7de-4536-af19-2c19ed782fd2",
   "metadata": {},
   "outputs": [
    {
     "name": "stdout",
     "output_type": "stream",
     "text": [
      "2 * 1 = 2 2 * 2 = 4 2 * 3 = 6 2 * 4 = 8 2 * 5 = 10 2 * 6 = 12 2 * 7 = 14 2 * 8 = 16 2 * 9 = 18 \n",
      "3 * 1 = 3 3 * 2 = 6 3 * 3 = 9 3 * 4 = 12 3 * 5 = 15 3 * 6 = 18 3 * 7 = 21 3 * 8 = 24 3 * 9 = 27 \n",
      "4 * 1 = 4 4 * 2 = 8 4 * 3 = 12 4 * 4 = 16 4 * 5 = 20 4 * 6 = 24 4 * 7 = 28 4 * 8 = 32 4 * 9 = 36 \n",
      "5 * 1 = 5 5 * 2 = 10 5 * 3 = 15 5 * 4 = 20 5 * 5 = 25 5 * 6 = 30 5 * 7 = 35 5 * 8 = 40 5 * 9 = 45 \n",
      "6 * 1 = 6 6 * 2 = 12 6 * 3 = 18 6 * 4 = 24 6 * 5 = 30 6 * 6 = 36 6 * 7 = 42 6 * 8 = 48 6 * 9 = 54 \n",
      "7 * 1 = 7 7 * 2 = 14 7 * 3 = 21 7 * 4 = 28 7 * 5 = 35 7 * 6 = 42 7 * 7 = 49 7 * 8 = 56 7 * 9 = 63 \n",
      "8 * 1 = 8 8 * 2 = 16 8 * 3 = 24 8 * 4 = 32 8 * 5 = 40 8 * 6 = 48 8 * 7 = 56 8 * 8 = 64 8 * 9 = 72 \n",
      "9 * 1 = 9 9 * 2 = 18 9 * 3 = 27 9 * 4 = 36 9 * 5 = 45 9 * 6 = 54 9 * 7 = 63 9 * 8 = 72 9 * 9 = 81 \n"
     ]
    }
   ],
   "source": [
    "for i in range(2,10): \n",
    "    for j in range(1,10): \n",
    "        print(\"%d * %d = %d\"% (i, j, i*j), end=' ')\n",
    "    print()"
   ]
  },
  {
   "cell_type": "code",
   "execution_count": 123,
   "id": "1143395c-157b-4553-aea4-ffd9f17ef090",
   "metadata": {},
   "outputs": [
    {
     "name": "stdout",
     "output_type": "stream",
     "text": [
      "multi campus\n",
      "multi campus\n",
      "multi campus\n",
      "multi campus\n",
      "multi campus\n"
     ]
    }
   ],
   "source": [
    "# while \n",
    "\n",
    "i = 1\n",
    "while (i <= 5): \n",
    "    print(\"multi campus\") \n",
    "    i += 1  # i = i +1 (정지조건 >> 없으면 무한 반복 지옥)"
   ]
  },
  {
   "cell_type": "code",
   "execution_count": 125,
   "id": "d9a2b7e3-23ae-481e-b813-3eb1a5888cee",
   "metadata": {},
   "outputs": [
    {
     "name": "stdout",
     "output_type": "stream",
     "text": [
      "i의 값: 1, 합계: 1\n",
      "i의 값: 2, 합계: 3\n",
      "i의 값: 3, 합계: 6\n",
      "i의 값: 4, 합계: 10\n",
      "i의 값: 5, 합계: 15\n"
     ]
    }
   ],
   "source": [
    "sum = 0 \n",
    "i = 1\n",
    "\n",
    "while (i <= 5): \n",
    "    sum = sum + i\n",
    "    print(\"i의 값: %d, 합계: %d\"%(i, sum))\n",
    "    i = i +1"
   ]
  },
  {
   "cell_type": "code",
   "execution_count": 128,
   "id": "e20da7f1-9f7b-4778-b86c-f1459def92fc",
   "metadata": {},
   "outputs": [
    {
     "name": "stdout",
     "output_type": "stream",
     "text": [
      "12\n",
      "t\n",
      "m u l t i   c a m p u s "
     ]
    }
   ],
   "source": [
    "i = 0\n",
    "s = \"multi campus\" \n",
    "print(len(s))\n",
    "print(s[3])\n",
    "\n",
    "while i <= (len(s) -1): \n",
    "    print(s[i], end= ' ') \n",
    "    i += 1  # 정지조건"
   ]
  },
  {
   "cell_type": "code",
   "execution_count": 129,
   "id": "c47b55ec-8469-4e5b-ac8b-2e3a561150ea",
   "metadata": {},
   "outputs": [
    {
     "name": "stdout",
     "output_type": "stream",
     "text": [
      "0 1 2 3 4 5 6 7 8 9 "
     ]
    }
   ],
   "source": [
    "i = 0 \n",
    "while i < 100: \n",
    "    print(i, end = ' ') \n",
    "    i += 1\n",
    "    if i == 10: \n",
    "        break "
   ]
  },
  {
   "cell_type": "markdown",
   "id": "c6d6903f-f9fc-4663-b9d1-79fcf5476624",
   "metadata": {},
   "source": [
    "[ 기출 응용 ] 평균 점수 계산"
   ]
  },
  {
   "cell_type": "code",
   "execution_count": 134,
   "id": "661a8905-ecd6-4049-9053-95730be34ca8",
   "metadata": {},
   "outputs": [
    {
     "name": "stdout",
     "output_type": "stream",
     "text": [
      "723\n",
      "평균은 72.30입니다.\n"
     ]
    }
   ],
   "source": [
    "# for 문 활용 \n",
    "\n",
    "a = [70,60,55,95,80,70,85,47,83,78] \n",
    "\n",
    "sum = 0 \n",
    "avg = 0 \n",
    "\n",
    "for i in a:\n",
    "    sum = sum + i\n",
    "\n",
    "avg = sum / len(a)\n",
    "\n",
    "print(sum)\n",
    "print(\"평균은 %.2f입니다.\"%avg)"
   ]
  },
  {
   "cell_type": "code",
   "execution_count": 135,
   "id": "03bc32b1-c18c-4538-8211-a896ca4c4523",
   "metadata": {},
   "outputs": [
    {
     "name": "stdout",
     "output_type": "stream",
     "text": [
      "723\n",
      "평균은 72.30입니다.\n"
     ]
    }
   ],
   "source": [
    "# while 문 \n",
    "\n",
    "a = [70,60,55,95,80,70,85,47,83,78] \n",
    "\n",
    "sum = 0 \n",
    "avg = 0 \n",
    "\n",
    "i = 0\n",
    "while (i < len(a)): \n",
    "    sum = sum + a[i]\n",
    "    i += 1\n",
    "\n",
    "avg = sum / len(a)\n",
    "\n",
    "print(sum)\n",
    "print(\"평균은 %.2f입니다.\"%avg)"
   ]
  },
  {
   "cell_type": "markdown",
   "id": "9e7e9976-862b-4b01-a69b-57cd96ca2a23",
   "metadata": {},
   "source": [
    "리스트 (List) "
   ]
  },
  {
   "cell_type": "code",
   "execution_count": 1,
   "id": "3f26a4b6-4b3b-4948-92f3-385588bb492b",
   "metadata": {},
   "outputs": [],
   "source": [
    "a = []\n",
    "b = [1,2,3] \n",
    "c = ['사과','오렌지','딸기','포도', '바나나'] \n",
    "d = [1,2,'python','programming'] "
   ]
  },
  {
   "cell_type": "code",
   "execution_count": 4,
   "id": "e0e2f889-e78c-4204-a193-110646c095a6",
   "metadata": {},
   "outputs": [
    {
     "name": "stdout",
     "output_type": "stream",
     "text": [
      "[]\n"
     ]
    }
   ],
   "source": [
    "print(a)"
   ]
  },
  {
   "cell_type": "markdown",
   "id": "04075664-2921-498d-a9a5-84d4b266619f",
   "metadata": {},
   "source": [
    "1차원 리스트"
   ]
  },
  {
   "cell_type": "code",
   "execution_count": 6,
   "id": "91b2ca1c-fcfa-4ece-b82e-0137d87592ea",
   "metadata": {},
   "outputs": [
    {
     "name": "stdout",
     "output_type": "stream",
     "text": [
      "바나나\n",
      "3\n",
      "['사과', '오렌지', '딸기', '포도']\n"
     ]
    }
   ],
   "source": [
    "# 인덱싱과 슬라이싱\n",
    "\n",
    "print(c[-1])  # 인덱싱\n",
    "# 인덱스는 0부터 시작 \n",
    "print(b[-2] + d[0]) \n",
    "print(c[:-1]) # 슬라이싱"
   ]
  },
  {
   "cell_type": "code",
   "execution_count": 11,
   "id": "cc2186e6-b1b6-4270-b3cf-f28cdde4920f",
   "metadata": {},
   "outputs": [
    {
     "name": "stdout",
     "output_type": "stream",
     "text": [
      "[1, 2, 3, 4, 5, 6, 7, 8]\n",
      "[1, 2, 3, 4, 1, 2, 3, 4, 1, 2, 3, 4]\n"
     ]
    }
   ],
   "source": [
    "# 리스트의 더하기와 곱하기\n",
    "# 특징: 더하면 연장, 곱하면 반복 \n",
    "\n",
    "a = [1,2,3,4]\n",
    "b = [5,6,7,8]\n",
    "\n",
    "# print(a, b)\n",
    "\n",
    "print(a + b) # 리스트를 합친다 \n",
    "print(a * 3) # list a 를 3번 반복해줘 "
   ]
  },
  {
   "cell_type": "code",
   "execution_count": 18,
   "id": "478f8257-d371-45fa-abc4-f669a1631a13",
   "metadata": {},
   "outputs": [
    {
     "name": "stdout",
     "output_type": "stream",
     "text": [
      "['a', 'b', 'c', 'd']\n"
     ]
    }
   ],
   "source": [
    "# 리스트 원소 추가 >> append(), insert()\n",
    "# append() : 리스트의 마지막에 원소를 추가 \n",
    "# insert() : 특정 인덱스에 원소를 추가 \n",
    "\n",
    "b = ['a','b','c'] \n",
    "b.append('d')\n",
    "print(b)"
   ]
  },
  {
   "cell_type": "code",
   "execution_count": 19,
   "id": "768d4456-3752-47b2-a113-396a43ae9012",
   "metadata": {},
   "outputs": [
    {
     "data": {
      "text/plain": [
       "['a', 'b', 'c', 'e', 'd']"
      ]
     },
     "execution_count": 19,
     "metadata": {},
     "output_type": "execute_result"
    }
   ],
   "source": [
    "b.insert(-1, 'e')  # insert(특정 인덱스, 삽입할 값) \n",
    "b"
   ]
  },
  {
   "cell_type": "code",
   "execution_count": 20,
   "id": "564e243f-6952-422a-9786-971d37deb974",
   "metadata": {},
   "outputs": [
    {
     "name": "stdout",
     "output_type": "stream",
     "text": [
      "['a', 'b', 'r']\n"
     ]
    }
   ],
   "source": [
    "# 리스트의 원소 수정과 삭제 \n",
    "\n",
    "c = ['a', 'b','c'] # 리스트 원소 수정 (값 변경)\n",
    "c[-1] = 'r' \n",
    "print(c)"
   ]
  },
  {
   "cell_type": "code",
   "execution_count": 21,
   "id": "8a02711d-e102-4fe3-8ea1-02b8e2e07671",
   "metadata": {},
   "outputs": [
    {
     "name": "stdout",
     "output_type": "stream",
     "text": [
      "['b', 'r']\n"
     ]
    }
   ],
   "source": [
    "del c[0] # 리스트 원소 삭제 \n",
    "print(c)"
   ]
  },
  {
   "cell_type": "code",
   "execution_count": 22,
   "id": "fa491a8d-9496-463e-92b1-22b87da98f94",
   "metadata": {},
   "outputs": [
    {
     "name": "stdout",
     "output_type": "stream",
     "text": [
      "['e', 'd', 'c', 'b', 'a']\n"
     ]
    }
   ],
   "source": [
    "# reverse() : 리스트의 원소의 순서를 역순으로 배열 \n",
    "a = ['a','b','c', 'd','e']\n",
    "a.reverse()\n",
    "print(a)"
   ]
  },
  {
   "cell_type": "code",
   "execution_count": 29,
   "id": "ee0f5f35-5336-4dfe-86c7-b59d93b0e86c",
   "metadata": {},
   "outputs": [
    {
     "name": "stdout",
     "output_type": "stream",
     "text": [
      "<list_reverseiterator object at 0x000002D4B9C6CA30>\n",
      "['e', 'd', 'c', 'b', 'a']\n",
      "['a', 'b', 'c', 'd', 'e']\n"
     ]
    }
   ],
   "source": [
    "a = ['a','b','c', 'd','e']\n",
    "print(reversed(a)) \n",
    "b = list(reversed(a))\n",
    "print(b)\n",
    "print(a)"
   ]
  },
  {
   "cell_type": "code",
   "execution_count": 39,
   "id": "3eb63080-d825-4da6-a31e-2463186e0270",
   "metadata": {},
   "outputs": [
    {
     "name": "stdout",
     "output_type": "stream",
     "text": [
      "['a', 'b', 'c', 'd', 'e']\n",
      "['e', 'd', 'c', 'b', 'a']\n"
     ]
    }
   ],
   "source": [
    "# 슬라이싱 역순 만들어 보세요 \n",
    "a = ['a','b','c', 'd','e']\n",
    "\n",
    "print(a[:])\n",
    "print(a[::-1])"
   ]
  },
  {
   "cell_type": "code",
   "execution_count": 33,
   "id": "f39a923b-6a38-4754-a1ec-ed8b1271140f",
   "metadata": {},
   "outputs": [
    {
     "name": "stdout",
     "output_type": "stream",
     "text": [
      "['a', 'b', 'c', 'd', 'e']\n",
      "4\n"
     ]
    }
   ],
   "source": [
    "# index(x) : 원소 x가 위치한 인덱스 값 반환(없으면 에러 발생)\n",
    "\n",
    "print(a)\n",
    "print(a.index('e'))\n",
    "# a.index('f') # value error 발생 "
   ]
  },
  {
   "cell_type": "code",
   "execution_count": 35,
   "id": "17ab8293-d5f8-4f63-bf24-c84cc5165a32",
   "metadata": {},
   "outputs": [
    {
     "data": {
      "text/plain": [
       "['a', 'b', 'c', 'd', 'e']"
      ]
     },
     "execution_count": 35,
     "metadata": {},
     "output_type": "execute_result"
    }
   ],
   "source": [
    "# sort() : 리스트의 원소를 오름차순(default) 정렬 \n",
    "d = ['e', 'd', 'c', 'b', 'a']\n",
    "d.sort()\n",
    "d"
   ]
  },
  {
   "cell_type": "code",
   "execution_count": 40,
   "id": "e175c35e-b859-475b-b142-b8c23f020e13",
   "metadata": {},
   "outputs": [
    {
     "name": "stdout",
     "output_type": "stream",
     "text": [
      "['e', 'd', 'c', 'b', 'a']\n",
      "['a', 'b', 'c', 'd', 'e']\n"
     ]
    }
   ],
   "source": [
    "d = ['e', 'd', 'c', 'b', 'a']\n",
    "e = sorted(d)\n",
    "print(d)\n",
    "print(e)"
   ]
  },
  {
   "cell_type": "code",
   "execution_count": 42,
   "id": "c53b4062-83f0-4920-ac0a-7a688d41068c",
   "metadata": {},
   "outputs": [
    {
     "data": {
      "text/plain": [
       "1"
      ]
     },
     "execution_count": 42,
     "metadata": {},
     "output_type": "execute_result"
    }
   ],
   "source": [
    "# count(x) : 리스트의 원소 x값 개수를 셈 \n",
    "\n",
    "d.count('a')"
   ]
  },
  {
   "cell_type": "code",
   "execution_count": 50,
   "id": "3b34dc64-ad7c-42ff-a757-d0ffcddc07c4",
   "metadata": {},
   "outputs": [
    {
     "data": {
      "text/plain": [
       "3"
      ]
     },
     "execution_count": 50,
     "metadata": {},
     "output_type": "execute_result"
    }
   ],
   "source": [
    "e = [10,20,30,40,20,20]\n",
    "\n",
    "e.count(20) "
   ]
  },
  {
   "cell_type": "code",
   "execution_count": 51,
   "id": "41ee7c41-6cd7-4bcb-9d70-2054889d5adc",
   "metadata": {},
   "outputs": [
    {
     "name": "stdout",
     "output_type": "stream",
     "text": [
      "[10, 20, 30, 40, 20, 20]\n",
      "[10, 30, 40, 20, 20]\n"
     ]
    }
   ],
   "source": [
    "# remove(x) : 리스트에서 [첫번째로 나오는] x값 삭제 \n",
    "\n",
    "print(e) # 변경 전 \n",
    "\n",
    "e.remove(20)\n",
    "print(e)"
   ]
  },
  {
   "cell_type": "code",
   "execution_count": 53,
   "id": "b18381b2-963d-432a-b19c-804ddd3926f5",
   "metadata": {},
   "outputs": [
    {
     "name": "stdout",
     "output_type": "stream",
     "text": [
      "a b c "
     ]
    }
   ],
   "source": [
    "# 반복문에서 리스트 활용 \n",
    "\n",
    "a = ['a', 'b', 'c']\n",
    "\n",
    "for i in a: \n",
    "    # print(i)\n",
    "    print(i, end =' ')"
   ]
  },
  {
   "cell_type": "markdown",
   "id": "cb7e30b0-e302-4ddb-804c-e2405ff41090",
   "metadata": {},
   "source": [
    "2차원 리스트"
   ]
  },
  {
   "cell_type": "code",
   "execution_count": 55,
   "id": "bbc4e137-0c8e-4b94-88fb-42ce85a3bfbe",
   "metadata": {},
   "outputs": [],
   "source": [
    "# 예) 학생 5명, 중간, 기말 시험 점수를 2차원 리스트로 표현해줘 \n",
    "scores = [[70,75],[80,80],[70,80],[90,85],[100,80]]\n",
    "# 추가 설명 : 성적 평정기준(출석 10%, 중간 30%, 기말 40%, 과제 20%) \n",
    "# [[8,25,35,15], [.....],[.....]] "
   ]
  },
  {
   "cell_type": "code",
   "execution_count": 57,
   "id": "b0f899dd-bb92-461b-879b-716513ffa8cf",
   "metadata": {},
   "outputs": [
    {
     "name": "stdout",
     "output_type": "stream",
     "text": [
      "[70, 80]\n"
     ]
    },
    {
     "data": {
      "text/plain": [
       "70"
      ]
     },
     "execution_count": 57,
     "metadata": {},
     "output_type": "execute_result"
    }
   ],
   "source": [
    "# 3번째 학생의 중간고사 성적 \n",
    "print(scores[2])\n",
    "scores[2][0] "
   ]
  },
  {
   "cell_type": "markdown",
   "id": "35f9eb86-29c1-4012-ad07-ac9732b51f03",
   "metadata": {},
   "source": [
    "튜플과 딕셔너리 "
   ]
  },
  {
   "cell_type": "code",
   "execution_count": 63,
   "id": "13bc8f10-4456-49d4-938c-b87d1a049ad8",
   "metadata": {},
   "outputs": [
    {
     "name": "stdout",
     "output_type": "stream",
     "text": [
      "a\n",
      "('a', 'b', 'c', 'd')\n",
      "('a', 'b', 'c', 'd', 'e', 'a', 'b', 'c', 'd', 'e')\n",
      "5\n"
     ]
    }
   ],
   "source": [
    "# 튜플 (tuple) (immutable) \n",
    "\n",
    "t = ('a','b','c','d','e')\n",
    "\n",
    "print(t[0])   #indexing \n",
    "print(t[:-1]) #slicing\n",
    "print(t * 2)  #곱하기 >> 반복됨 \n",
    "print(len(t))"
   ]
  },
  {
   "cell_type": "code",
   "execution_count": 66,
   "id": "714726d3-327e-475e-be50-3608d0be34ad",
   "metadata": {},
   "outputs": [
    {
     "name": "stdout",
     "output_type": "stream",
     "text": [
      "a\n",
      "python\n"
     ]
    }
   ],
   "source": [
    "# 딕셔너리 \n",
    "\n",
    "dic1 = {1:'a', 2:'b', 3:'c'}\n",
    "dic2 = {'name': 'python', 'age': 30, 'job': 'dessa'}\n",
    "\n",
    "print(dic1[1]) # 1 : key >> dic1[1]>>value 값이 'a' 출력\n",
    "print(dic2['name']) "
   ]
  },
  {
   "cell_type": "code",
   "execution_count": 67,
   "id": "9c074db4-08b0-4bb1-84ae-d499af2db740",
   "metadata": {},
   "outputs": [
    {
     "name": "stdout",
     "output_type": "stream",
     "text": [
      "{1: 'a', 2: 'b', 3: 'c', 4: 'd'}\n"
     ]
    }
   ],
   "source": [
    "# 딕셔너리 요소 값 추가 \n",
    "dic1[4] = 'd'\n",
    "\n",
    "print(dic1)"
   ]
  },
  {
   "cell_type": "code",
   "execution_count": 68,
   "id": "5a274338-e857-4d5a-833e-f7f923598437",
   "metadata": {},
   "outputs": [
    {
     "name": "stdout",
     "output_type": "stream",
     "text": [
      "{'name': 'python', 'age': 30, 'job': 'dessa', 'hobby': 'piano'}\n"
     ]
    }
   ],
   "source": [
    "dic2['hobby'] = 'piano' \n",
    "\n",
    "print(dic2) "
   ]
  },
  {
   "cell_type": "markdown",
   "id": "a395ddf0-ed12-4eea-8f67-0617e02c47dd",
   "metadata": {},
   "source": [
    "딕셔너리 관련 함수"
   ]
  },
  {
   "cell_type": "code",
   "execution_count": 69,
   "id": "ef27786e-2d71-444c-9457-cd928a050e94",
   "metadata": {},
   "outputs": [
    {
     "name": "stdout",
     "output_type": "stream",
     "text": [
      "dict_keys(['name', 'age', 'job'])\n"
     ]
    }
   ],
   "source": [
    "dic1 = {1:'a', 2:'b', 3:'c'}\n",
    "dic2 = {'name': 'python', 'age': 30, 'job': 'dessa'}\n",
    "\n",
    "print(dic2.keys())"
   ]
  },
  {
   "cell_type": "code",
   "execution_count": 70,
   "id": "eb9d1979-3a6f-4c57-bf57-e206199432ef",
   "metadata": {},
   "outputs": [
    {
     "name": "stdout",
     "output_type": "stream",
     "text": [
      "dict_values(['python', 30, 'dessa'])\n"
     ]
    }
   ],
   "source": [
    "print(dic2.values())"
   ]
  },
  {
   "cell_type": "code",
   "execution_count": 71,
   "id": "5f4d8590-ff92-42ce-a34b-e07ff0bbcea3",
   "metadata": {},
   "outputs": [
    {
     "name": "stdout",
     "output_type": "stream",
     "text": [
      "dict_items([('name', 'python'), ('age', 30), ('job', 'dessa')])\n"
     ]
    }
   ],
   "source": [
    "print(dic2.items()) #(k, v) 묶어서 tuple 형태로 "
   ]
  },
  {
   "cell_type": "code",
   "execution_count": 72,
   "id": "6445a6a3-84c9-41f0-afcb-97cdf3bb9f4f",
   "metadata": {},
   "outputs": [
    {
     "name": "stdout",
     "output_type": "stream",
     "text": [
      "30\n"
     ]
    }
   ],
   "source": [
    "if 'age' in dic2: \n",
    "    print(dic2.get('age'))"
   ]
  },
  {
   "cell_type": "code",
   "execution_count": 73,
   "id": "b583e836-1cf4-4dbc-9eb3-078c0480d04e",
   "metadata": {},
   "outputs": [
    {
     "name": "stdout",
     "output_type": "stream",
     "text": [
      "None\n"
     ]
    }
   ],
   "source": [
    "if 'age' in dic2: \n",
    "    print(dic2.get('address')) # 없으면 None"
   ]
  },
  {
   "cell_type": "markdown",
   "id": "ff434647-1fd1-4178-9ef8-263631cf2220",
   "metadata": {},
   "source": [
    "해 보세요. \n",
    "\n",
    "- 3명의 회원 정보(id, password) : dictonary 정의할 것 \n",
    "- 사용자로부터 id, password 입력받아서 일치 여부 판단 프로그램 \n",
    "    - 회원1 id: multi pw: 1234\n",
    "    - 회원2 id: drwill pw: 7777\n",
    "    - 회원3 id: dessa pw: 8888"
   ]
  },
  {
   "cell_type": "code",
   "execution_count": 85,
   "id": "c5d2379b-1336-45a6-9596-ff5330904968",
   "metadata": {},
   "outputs": [
    {
     "name": "stdin",
     "output_type": "stream",
     "text": [
      "사용자 아이디를 입력해 주세요:  dessa\n",
      "비밀번호를 입력해 주세요(단, 숫자로 입력해주세요):  8872\n"
     ]
    },
    {
     "name": "stdout",
     "output_type": "stream",
     "text": [
      "비밀번호가 틀립니다.\n"
     ]
    }
   ],
   "source": [
    "id_pw = {'multi' : 1234, 'drwill': 7777, 'dessa': 8888}\n",
    "\n",
    "# HINT (if ~ else 사용해 보세요)\n",
    "\n",
    "id = input(\"사용자 아이디를 입력해 주세요: \")\n",
    "pw = int(input(\"비밀번호를 입력해 주세요(단, 숫자로 입력해주세요): \"))\n",
    "\n",
    "if id in id_pw : \n",
    "    if pw == id_pw.get(id): \n",
    "        print(\"아이디와 비밀번호가 일치합니다.\") \n",
    "\n",
    "    else: \n",
    "        print(\"비밀번호가 틀립니다.\")\n",
    "\n",
    "else: \n",
    "    print(\"아이디가 존재하지 않습니다\") "
   ]
  },
  {
   "cell_type": "code",
   "execution_count": 75,
   "id": "c3723556-1bcf-4cd8-905f-e39e48009b08",
   "metadata": {},
   "outputs": [
    {
     "name": "stdin",
     "output_type": "stream",
     "text": [
      "아이디를 입력하시요 : dessa\n",
      "비밀번호를 입력하시요 : 7878\n"
     ]
    },
    {
     "name": "stdout",
     "output_type": "stream",
     "text": [
      "아이디 일치합니다.\n",
      "비밀번호를 다시 확인해주세요\n"
     ]
    }
   ],
   "source": [
    "id_pw = {'multi':1234, 'drwill':7777, 'dessa':8888}\n",
    "\n",
    "input_id = input('아이디를 입력하시요 :')\n",
    "input_pw = int(input('비밀번호를 입력하시요(숫자로 입력해주세요) :'))\n",
    "\n",
    "if input_id in id_pw.keys():  # 마음에 들어용 \n",
    "    print('아이디 일치합니다.')\n",
    "else:\n",
    "    print('아이디를 다시 확인해주세요')\n",
    "\n",
    "if input_pw == id_pw[input_id]:\n",
    "    print('비밀번호 일치합니다.')\n",
    "else:\n",
    "    print('비밀번호를 다시 확인해주세요')"
   ]
  },
  {
   "cell_type": "code",
   "execution_count": 78,
   "id": "0157a7f7-2e96-460a-93da-b8b22a81e8cc",
   "metadata": {},
   "outputs": [
    {
     "name": "stdin",
     "output_type": "stream",
     "text": [
      "id 입력하세요 :  drwill\n",
      "password 입력하세요 :  7878\n"
     ]
    },
    {
     "name": "stdout",
     "output_type": "stream",
     "text": [
      "id, password 가 틀리셨습니다\n"
     ]
    }
   ],
   "source": [
    "# 3명의 회원 정보 id, password\n",
    "user_id_pw = { 'multi' :1234, 'drwill' : 7777, 'dessa':8888}\n",
    "\n",
    "id = input(\"id 입력하세요 : \")\n",
    "pw = int(input(\"password 입력하세요 : \"))\n",
    "\n",
    "if user_id_pw[id] ==pw:\n",
    "    print(f\"{id}님 로그인 성공하셨습니다\")\n",
    "else :\n",
    "    print(\"id, password 가 틀리셨습니다\")\n",
    "\n",
    "# 에러 방지 코드 있었으면....살짝 아쉬워라 \n",
    "# id 는 맞게 쳤는데... 힝 "
   ]
  },
  {
   "cell_type": "code",
   "execution_count": 80,
   "id": "97d792ba-7b40-4291-8502-e456e44da517",
   "metadata": {},
   "outputs": [
    {
     "name": "stdin",
     "output_type": "stream",
     "text": [
      "아이디를 입력하세요:  dessa\n",
      "비밀번호를 입력하세요:  7878\n"
     ]
    },
    {
     "name": "stdout",
     "output_type": "stream",
     "text": [
      "아이디 또는 비밀번호가 잘못되었습니다.\n"
     ]
    }
   ],
   "source": [
    "id_pw = {'multi': '1234', 'drwill': '7777', 'dessa': '8888'}\n",
    "\n",
    "input_id = input(\"아이디를 입력하세요: \")\n",
    "input_pw = input(\"비밀번호를 입력하세요: \")\n",
    "\n",
    "if input_id in id_pw and id_pw[input_id] == input_pw:\n",
    "    print(\"로그인 성공!\")\n",
    "else:\n",
    "    print(\"아이디 또는 비밀번호가 잘못되었습니다.\")\n",
    "    # 잘 피해갔네 "
   ]
  },
  {
   "cell_type": "code",
   "execution_count": 81,
   "id": "006558e2-16a8-4d96-8378-724c547ea659",
   "metadata": {},
   "outputs": [
    {
     "name": "stdin",
     "output_type": "stream",
     "text": [
      " dessa\n",
      " 7878\n"
     ]
    },
    {
     "name": "stdout",
     "output_type": "stream",
     "text": [
      "불일치\n"
     ]
    }
   ],
   "source": [
    "id_pw = {'multi': 1234,\n",
    "         'drwill': 7777,\n",
    "         'dessa': 8888}\n",
    "\n",
    "uid = input()\n",
    "\n",
    "if uid in id_pw.keys():\n",
    "    pw = id_pw.get(uid)\n",
    "    upw = int(input())\n",
    "    if upw == pw:\n",
    "        print(\"일치\")\n",
    "    else:\n",
    "        print(\"불일치\")\n",
    "else:\n",
    "    print('존재하지 않는 사용자')\n",
    "    # 친절하지가 않아 "
   ]
  },
  {
   "cell_type": "markdown",
   "id": "3d8378eb-d772-40ab-825d-cc486ea03561",
   "metadata": {},
   "source": [
    "함수와 라이브러리(모듈, 패키지)"
   ]
  },
  {
   "cell_type": "code",
   "execution_count": 86,
   "id": "355ad100-2e1c-4c11-8317-1a2827e995ee",
   "metadata": {},
   "outputs": [],
   "source": [
    "def sum(x, y):\n",
    "    return x + y "
   ]
  },
  {
   "cell_type": "code",
   "execution_count": 89,
   "id": "1799a08d-7f1b-42f2-a982-275bda4741df",
   "metadata": {},
   "outputs": [],
   "source": [
    "# 주어진 수의 홀짜 판단하기 \n",
    "\n",
    "def 홀짝(x): \n",
    "    if x % 2 == 0 : # 2로 나눠서 나머지가 0 >> 2의 배수 \n",
    "        return(\"짝수\")\n",
    "    else: \n",
    "        return(\"홀수\") "
   ]
  },
  {
   "cell_type": "code",
   "execution_count": 90,
   "id": "a54d570b-18e8-43bb-84e7-987751d68633",
   "metadata": {},
   "outputs": [
    {
     "data": {
      "text/plain": [
       "'홀수'"
      ]
     },
     "execution_count": 90,
     "metadata": {},
     "output_type": "execute_result"
    }
   ],
   "source": [
    "홀짝(41)"
   ]
  },
  {
   "cell_type": "code",
   "execution_count": 92,
   "id": "2df3afa6-68ee-4b67-9414-140bb321c0ae",
   "metadata": {},
   "outputs": [
    {
     "name": "stdin",
     "output_type": "stream",
     "text": [
      "숫자를 입력해 주세요(단, 정수로 입력해줘요): 41\n"
     ]
    },
    {
     "name": "stdout",
     "output_type": "stream",
     "text": [
      "41은 홀수입니다.\n"
     ]
    }
   ],
   "source": [
    "x = int(input(\"숫자를 입력해 주세요(단, 정수로 입력해줘요):\"))\n",
    "print(\"%d은 %s입니다.\"%(x, 홀짝(x)))"
   ]
  },
  {
   "cell_type": "code",
   "execution_count": 94,
   "id": "0b9486d0-61ee-4db6-9951-a6fb11f104e4",
   "metadata": {},
   "outputs": [
    {
     "name": "stdin",
     "output_type": "stream",
     "text": [
      "첫번째 숫자를 입력하세요(반드시 숫자입력이예요.) 5\n",
      "두번째 숫자를 입력하세요(반드시 숫자입력이예요.) 3\n"
     ]
    },
    {
     "name": "stdout",
     "output_type": "stream",
     "text": [
      "두 수의 곱은 15 입니다.\n"
     ]
    }
   ],
   "source": [
    "# 주어진 두 수 곱하는 함수 \n",
    "\n",
    "def multi(x,y):\n",
    "    mul = x * y\n",
    "    return mul \n",
    "\n",
    "x = int(input(\"첫번째 숫자를 입력하세요(반드시 숫자입력이예요.)\"))\n",
    "y = int(input(\"두번째 숫자를 입력하세요(반드시 숫자입력이예요.)\"))\n",
    "\n",
    "print(\"두 수의 곱은 %d 입니다.\"%multi(x,y)) "
   ]
  },
  {
   "cell_type": "code",
   "execution_count": null,
   "id": "2d4e1d90-e627-4d22-9b4b-3a99306f6b85",
   "metadata": {},
   "outputs": [],
   "source": []
  }
 ],
 "metadata": {
  "kernelspec": {
   "display_name": "Python 3 (ipykernel)",
   "language": "python",
   "name": "python3"
  },
  "language_info": {
   "codemirror_mode": {
    "name": "ipython",
    "version": 3
   },
   "file_extension": ".py",
   "mimetype": "text/x-python",
   "name": "python",
   "nbconvert_exporter": "python",
   "pygments_lexer": "ipython3",
   "version": "3.11.7"
  }
 },
 "nbformat": 4,
 "nbformat_minor": 5
}
