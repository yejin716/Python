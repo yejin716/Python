{
 "cells": [
  {
   "cell_type": "markdown",
   "id": "7bf3b1a6-3a6e-4218-836a-fe40b53aa19d",
   "metadata": {},
   "source": [
    "변수"
   ]
  },
  {
   "cell_type": "code",
   "execution_count": 1,
   "id": "351f5cfc-8c84-49c6-8fa0-18ba440a8411",
   "metadata": {},
   "outputs": [
    {
     "name": "stdout",
     "output_type": "stream",
     "text": [
      "1\n"
     ]
    }
   ],
   "source": [
    "a = 1 \n",
    "print(a)"
   ]
  },
  {
   "cell_type": "code",
   "execution_count": 3,
   "id": "8a5bc26a-ac46-4cf4-959d-b831ef4b696e",
   "metadata": {},
   "outputs": [
    {
     "name": "stdout",
     "output_type": "stream",
     "text": [
      "5\n"
     ]
    }
   ],
   "source": [
    "b = 5 \n",
    "a = b\n",
    "#얕은 복사(shallow copy)\n",
    "print(a)"
   ]
  },
  {
   "cell_type": "markdown",
   "id": "afedb96f-1949-4979-900c-5c55f451e5e1",
   "metadata": {},
   "source": [
    "데이터 타입(dtype)"
   ]
  },
  {
   "cell_type": "code",
   "execution_count": 6,
   "id": "1a9581be-1856-4c8d-9a45-b347deb06bbc",
   "metadata": {},
   "outputs": [
    {
     "name": "stdout",
     "output_type": "stream",
     "text": [
      "1 5 3.3 0.5\n",
      "<class 'int'> <class 'int'> <class 'float'> <class 'float'>\n"
     ]
    }
   ],
   "source": [
    "#숫자형 \n",
    "\n",
    "a = 1 ;b = 5 ;c = 3.3 ; d = 0.5\n",
    "\n",
    "print(a,b,c,d)\n",
    "print(type(a),type(b),type(c),type(d))"
   ]
  },
  {
   "cell_type": "code",
   "execution_count": 10,
   "id": "08bde953-8c8e-481d-9311-95c49d28635a",
   "metadata": {},
   "outputs": [
    {
     "name": "stdout",
     "output_type": "stream",
     "text": [
      "6 -4 5 0.2\n",
      "1.0\n",
      "0.0\n",
      "1.0\n"
     ]
    }
   ],
   "source": [
    "print(a+b,a-b,a*b,a/b) #사칙연산(+,-,*,%)\n",
    "print(a ** c) #제곱\n",
    "print(a // c) #몫\n",
    "print(a % c) #나머지"
   ]
  },
  {
   "cell_type": "code",
   "execution_count": 12,
   "id": "008bbf7c-9c04-4ba1-95f4-b074904df4f4",
   "metadata": {},
   "outputs": [
    {
     "name": "stdout",
     "output_type": "stream",
     "text": [
      "pythonprogramming\n",
      "pythonpython\n"
     ]
    }
   ],
   "source": [
    "#문자열 형 \n",
    "\n",
    "str1 = \"python\"\n",
    "str2 = \"programming\"\n",
    "print(str1 + str2) #문자열 더하기 >> 문자끼리 연결 \n",
    "print(str1 * 2) #문자열 곱하기 >> 문자열 반복"
   ]
  },
  {
   "cell_type": "code",
   "execution_count": 22,
   "id": "6f65bf8e-abed-41e0-89ce-b02ce155a364",
   "metadata": {},
   "outputs": [
    {
     "name": "stdout",
     "output_type": "stream",
     "text": [
      "p\n",
      "n\n",
      "18\n",
      "p\n",
      "******************************\n",
      "yth\n",
      "python\n",
      "ing\n"
     ]
    }
   ],
   "source": [
    "#문자열 인덱싱 & 슬라이싱\n",
    "str = \"python programming\"\n",
    "print(str[0]) #인덱싱(특정 위치 값 추출 )\n",
    "print(str[-2])\n",
    "print(len(str)) #데이터 크기(길이)\n",
    "print(str[-18])\n",
    "print(\"*\" * 30)\n",
    "\n",
    "print(str[1:4])\n",
    "print(str[:6])\n",
    "print(str[-3:])\n"
   ]
  },
  {
   "cell_type": "code",
   "execution_count": 26,
   "id": "f43a3380-b669-479e-9f5d-e522c7416ab6",
   "metadata": {},
   "outputs": [
    {
     "name": "stdout",
     "output_type": "stream",
     "text": [
      "오늘은 28일 입니다,\n",
      "오늘은 목요일 입니다.\n",
      "지금 온도는 36.50도 입니다.\n"
     ]
    }
   ],
   "source": [
    "#문자열 포맷팅 \n",
    "#f'{}' = f-string (추천)\n",
    "\n",
    "print(\"오늘은 %d일 입니다,\" %28)\n",
    "print(\"오늘은 %s요일 입니다.\"%\"목\")\n",
    "print(\"지금 온도는 %.2f도 입니다.\"%36.5) #소수점 2째자리까지만 출력\n",
    "print(\"\")\n"
   ]
  },
  {
   "cell_type": "markdown",
   "id": "e439b37f-6a9e-4fbb-9a23-e574f9ca99fd",
   "metadata": {},
   "source": [
    "-%s : string 문자열\n",
    "-%c : 단일문자(char)\n",
    "-%d : 정수(int)\n",
    "-%x : 16진수 "
   ]
  },
  {
   "cell_type": "code",
   "execution_count": 29,
   "id": "dc3cd3a4-5dbc-4e05-be86-0a2b588fc2c8",
   "metadata": {},
   "outputs": [
    {
     "name": "stdout",
     "output_type": "stream",
     "text": [
      "2\n"
     ]
    }
   ],
   "source": [
    "#문자열 내장 함수\n",
    "#count() :문자열 내 특정 문자 개수 세기 \n",
    "str = \"python programming\"\n",
    "print(str.count('p')) \n"
   ]
  },
  {
   "cell_type": "code",
   "execution_count": 30,
   "id": "42303ed8-62e0-472c-b2e9-e158d26023ae",
   "metadata": {},
   "outputs": [
    {
     "data": {
      "text/plain": [
       "'p-y-t-h-o-n- -p-r-o-g-r-a-m-m-i-n-g'"
      ]
     },
     "execution_count": 30,
     "metadata": {},
     "output_type": "execute_result"
    }
   ],
   "source": [
    "#join() : 문자열 삽입\n",
    "\n",
    "\"-\".join(str)\n",
    "\n"
   ]
  },
  {
   "cell_type": "code",
   "execution_count": 32,
   "id": "76c2edd6-e4e3-4ebf-a72e-9b2238567cef",
   "metadata": {},
   "outputs": [
    {
     "data": {
      "text/plain": [
       "5"
      ]
     },
     "execution_count": 32,
     "metadata": {},
     "output_type": "execute_result"
    }
   ],
   "source": [
    "#find() : 찾는 문자열 (처음 나온) 위치 변환\n",
    "\n",
    "str.find('n')"
   ]
  },
  {
   "cell_type": "code",
   "execution_count": 94,
   "id": "4e5f2d45-f4a0-42d9-858b-37fe1f47f694",
   "metadata": {},
   "outputs": [
    {
     "name": "stdout",
     "output_type": "stream",
     "text": [
      "PYTHON PROGRAMMING\n",
      "python programming\n"
     ]
    }
   ],
   "source": [
    "#upper(), lower() 대문자/ 소문자로\n",
    "\n",
    "print(str.upper())\n",
    "str2 = 'PYTHON PROGRAMMING'\n",
    "print(str2.lower())"
   ]
  },
  {
   "cell_type": "code",
   "execution_count": 96,
   "id": "c19501d9-74c4-4a1c-8ccc-9f5a7e64a630",
   "metadata": {},
   "outputs": [
    {
     "data": {
      "text/plain": [
       "'java programming'"
      ]
     },
     "execution_count": 96,
     "metadata": {},
     "output_type": "execute_result"
    }
   ],
   "source": [
    "#replace(***) : 문자열 내 특정 값을 다른 값으로 변환\n",
    "#replace(바꾸고싶은문자, 바꿀문자)\n",
    "str.replace('python','java')"
   ]
  },
  {
   "cell_type": "code",
   "execution_count": 98,
   "id": "1641c7a9-e3d8-4e01-8355-f49742908927",
   "metadata": {},
   "outputs": [
    {
     "data": {
      "text/plain": [
       "['python', 'programming']"
      ]
     },
     "execution_count": 98,
     "metadata": {},
     "output_type": "execute_result"
    }
   ],
   "source": [
    "#split(***) : 공백 또는 특정 문자를 [구분자]로 문자열 분리\n",
    "\n",
    "str.split(\" \") #공백으로 분리"
   ]
  },
  {
   "cell_type": "code",
   "execution_count": 99,
   "id": "41cdc13c-226e-41c3-97f0-d2041b9d31de",
   "metadata": {},
   "outputs": [
    {
     "name": "stdout",
     "output_type": "stream",
     "text": [
      "30\n",
      "10\n",
      "200\n",
      "2.0\n",
      "2\n",
      "0\n",
      "10240000000000\n"
     ]
    }
   ],
   "source": [
    "# 산술 연산자 \n",
    "\n",
    "a = 20 ; b = 10 \n",
    "print(a+b) # 더하기\n",
    "print(a-b) # 빼기\n",
    "print(a*b) # 곱하기\n",
    "print(a/b) # 나누기 \n",
    "print(a//b) # 몫\n",
    "print(a%b)  # 나머지 \n",
    "print(a**b) # 거듭제곱 "
   ]
  },
  {
   "cell_type": "code",
   "execution_count": 100,
   "id": "d83ff25e-a39c-4660-8a3a-8228bdda0516",
   "metadata": {},
   "outputs": [
    {
     "name": "stdout",
     "output_type": "stream",
     "text": [
      "False\n",
      "True\n",
      "False\n",
      "False\n",
      "True\n"
     ]
    }
   ],
   "source": [
    "#비교(연산자)\n",
    "\n",
    "print(a < b) \n",
    "# boolean(True/False)으로 출력\n",
    "print(a >= b) \n",
    "print(a <= b) \n",
    "print(a == b) # 값이 동일 \n",
    "print(a != b) # 값이 다르다\n"
   ]
  },
  {
   "cell_type": "code",
   "execution_count": 40,
   "id": "db710e88-70ea-4e7a-b840-6aea1b5477d1",
   "metadata": {},
   "outputs": [
    {
     "data": {
      "text/plain": [
       "False"
      ]
     },
     "execution_count": 40,
     "metadata": {},
     "output_type": "execute_result"
    }
   ],
   "source": [
    "#논리 연산자 \n",
    "a = True\n",
    "b = False\n",
    "\n",
    "(a and b)"
   ]
  },
  {
   "cell_type": "code",
   "execution_count": 41,
   "id": "d2afa51b-c1ad-4052-a698-58847225b118",
   "metadata": {},
   "outputs": [
    {
     "data": {
      "text/plain": [
       "True"
      ]
     },
     "execution_count": 41,
     "metadata": {},
     "output_type": "execute_result"
    }
   ],
   "source": [
    "(a or b)\n"
   ]
  },
  {
   "cell_type": "code",
   "execution_count": 42,
   "id": "ec1bc111-aa28-4b77-aa73-4c4639e89e09",
   "metadata": {},
   "outputs": [
    {
     "data": {
      "text/plain": [
       "True"
      ]
     },
     "execution_count": 42,
     "metadata": {},
     "output_type": "execute_result"
    }
   ],
   "source": [
    "not b "
   ]
  },
  {
   "cell_type": "code",
   "execution_count": 43,
   "id": "62a80c86-9d5a-4b73-8b12-e04e5089d65f",
   "metadata": {},
   "outputs": [
    {
     "name": "stdout",
     "output_type": "stream",
     "text": [
      "20\n"
     ]
    }
   ],
   "source": [
    "#복합 대입 연산자 \n",
    "\n",
    "a= 10\n",
    "a = a+10 # a += 10\n",
    "print(a)"
   ]
  },
  {
   "cell_type": "code",
   "execution_count": 46,
   "id": "ba70ddd2-c34e-4b70-b717-b090bbbea98f",
   "metadata": {},
   "outputs": [
    {
     "name": "stdout",
     "output_type": "stream",
     "text": [
      "10\n"
     ]
    }
   ],
   "source": [
    "a += 10\n",
    "print(a)"
   ]
  },
  {
   "cell_type": "code",
   "execution_count": 47,
   "id": "a6adad9d-dcca-4dc8-b887-8c1ac51fdcaa",
   "metadata": {},
   "outputs": [
    {
     "name": "stdout",
     "output_type": "stream",
     "text": [
      "100\n"
     ]
    }
   ],
   "source": [
    "a *= 10\n",
    "print(a)\n"
   ]
  },
  {
   "cell_type": "code",
   "execution_count": 48,
   "id": "62754b22-8415-4eae-88a2-2cbd2e9b2098",
   "metadata": {},
   "outputs": [
    {
     "name": "stdout",
     "output_type": "stream",
     "text": [
      "10.0\n"
     ]
    }
   ],
   "source": [
    "a /= 10\n",
    "print(a)"
   ]
  },
  {
   "cell_type": "markdown",
   "id": "d3ec00ea-e5c3-420a-a9c5-bd5b32f3f70d",
   "metadata": {},
   "source": [
    "조건문과 반복문 "
   ]
  },
  {
   "cell_type": "code",
   "execution_count": 49,
   "id": "06537241-e888-4614-afc9-64b9a31056bd",
   "metadata": {},
   "outputs": [
    {
     "name": "stdout",
     "output_type": "stream",
     "text": [
      "a는 양의 정수입니다.\n"
     ]
    }
   ],
   "source": [
    "#조건문 if\n",
    "\n",
    "a = 10\n",
    "if (a > 0):\n",
    "    print(\"a는 양의 정수입니다.\")"
   ]
  },
  {
   "cell_type": "code",
   "execution_count": 52,
   "id": "0cb61308-90e7-4fba-82f7-00ec7fce0f7d",
   "metadata": {},
   "outputs": [],
   "source": [
    "a = 10\n",
    "if (a < 0):\n",
    "    print(\"a는 양의 정수입니다.\")\n",
    "\n",
    "#아무것도 안나옴(if절 조건이 True가 아니라서 )"
   ]
  },
  {
   "cell_type": "code",
   "execution_count": 53,
   "id": "fc5d59ff-12f9-4e7d-8bcd-8256a13414d3",
   "metadata": {},
   "outputs": [
    {
     "name": "stdout",
     "output_type": "stream",
     "text": [
      "10\n"
     ]
    }
   ],
   "source": [
    "a = 10\n",
    "if (a < 0):\n",
    "    print(\"a는 양의 정수입니다.\")\n",
    "\n",
    "print(a)"
   ]
  },
  {
   "cell_type": "code",
   "execution_count": 55,
   "id": "f00e6e90-b21a-4f36-9e8d-82ed12c96456",
   "metadata": {},
   "outputs": [
    {
     "name": "stdout",
     "output_type": "stream",
     "text": [
      "b는 -10입니다.\n",
      "b는 음의정수입니다.\n"
     ]
    }
   ],
   "source": [
    "#if ~ else\n",
    "\n",
    "b = -10\n",
    "\n",
    "if (b > 0 ):\n",
    "    print(\"b는 %d입니다.\"%b)\n",
    "    print(\"b는 양의정수입니다.\")\n",
    "else:\n",
    "    print(\"b는 %d입니다.\"%b)\n",
    "    print(\"b는 음의정수입니다.\")"
   ]
  },
  {
   "cell_type": "code",
   "execution_count": 56,
   "id": "1638a9cd-5b37-4472-8271-8c8d7bbe6e90",
   "metadata": {},
   "outputs": [
    {
     "name": "stdout",
     "output_type": "stream",
     "text": [
      "a는 음의 정수입니다.\n"
     ]
    }
   ],
   "source": [
    "#if~elif~else\n",
    "\n",
    "a = -10\n",
    "\n",
    "if (a>0):\n",
    "    print(\"a는 양의 정수입니다.\")\n",
    "elif (a==0):\n",
    "    print(\"a는 0입니다.\")\n",
    "else:\n",
    "    print(\"a는 음의 정수입니다.\")"
   ]
  },
  {
   "cell_type": "code",
   "execution_count": 72,
   "id": "ec6da652-8f9a-495b-8ead-f5a31d85389a",
   "metadata": {},
   "outputs": [
    {
     "name": "stdin",
     "output_type": "stream",
     "text": [
      "첫번째 수를 입력하세요: 5\n",
      "두번째 수를 입력하세요: 2\n",
      "세번째 수를 입력하세요: 3\n"
     ]
    },
    {
     "name": "stdout",
     "output_type": "stream",
     "text": [
      "가장 큰 수는 5입니다.\n"
     ]
    }
   ],
   "source": [
    "### 실제 코딩 테스트 나온 문제 \n",
    "\n",
    "#a,b,c 세 정수형 변수\n",
    "#이 중에서 가장 큰 수 찾아서 출력\n",
    "#사용자 입력을 받으세요 \n",
    "\n",
    "a = int(input(\"첫번째 수를 입력하세요:\"))\n",
    "b = int(input(\"두번째 수를 입력하세요:\"))\n",
    "c = int(input(\"세번째 수를 입력하세요:\"))\n",
    "\n",
    "big = 0\n",
    "\n",
    "if (a>=b):\n",
    "    big = a\n",
    "else:\n",
    "    big = b\n",
    "    \n",
    "if (c >= big):\n",
    "    print(\"가장 큰 수는 %d입니다.\"%c)\n",
    "else:\n",
    "    print(\"가장 큰 수는 %d입니다.\"%big)\n",
    "    "
   ]
  },
  {
   "cell_type": "markdown",
   "id": "e1ee719b-28da-477a-b750-ca1e2a50bce2",
   "metadata": {},
   "source": [
    "반복문"
   ]
  },
  {
   "cell_type": "code",
   "execution_count": 101,
   "id": "c42436ba-9e75-41fa-ba4f-ecd814cde008",
   "metadata": {},
   "outputs": [
    {
     "name": "stdout",
     "output_type": "stream",
     "text": [
      "python programming\n",
      "python programming\n",
      "python programming\n",
      "python programming\n",
      "python programming\n"
     ]
    }
   ],
   "source": [
    "#for문\n",
    "\n",
    "for i in range(5):\n",
    "    print('python programming')"
   ]
  },
  {
   "cell_type": "code",
   "execution_count": 108,
   "id": "98cd41fb-53b1-4c1a-8420-7a6dbaf0ee05",
   "metadata": {},
   "outputs": [
    {
     "data": {
      "text/plain": [
       "[1, 2, 3, 4, 5, 6, 7, 8, 9]"
      ]
     },
     "execution_count": 108,
     "metadata": {},
     "output_type": "execute_result"
    }
   ],
   "source": [
    "[i for i in range(1,10)]"
   ]
  },
  {
   "cell_type": "code",
   "execution_count": 104,
   "id": "27b2c2fc-7afc-44f3-a2be-bad148d6d441",
   "metadata": {},
   "outputs": [
    {
     "name": "stdout",
     "output_type": "stream",
     "text": [
      "1 3 5 7 9 "
     ]
    }
   ],
   "source": [
    "for i in range(1,10,2):\n",
    "    print(i,end=' ')"
   ]
  },
  {
   "cell_type": "code",
   "execution_count": 105,
   "id": "33da31e8-fcf0-4da1-b5e8-89ea99be819f",
   "metadata": {},
   "outputs": [
    {
     "name": "stdout",
     "output_type": "stream",
     "text": [
      "m u l t i   c a m p u s "
     ]
    }
   ],
   "source": [
    "for char in \"multi campus\":\n",
    "    print(char, end=' ')"
   ]
  },
  {
   "cell_type": "code",
   "execution_count": 106,
   "id": "e06d4699-44d5-47b4-93e6-ea850a425106",
   "metadata": {},
   "outputs": [
    {
     "name": "stdout",
     "output_type": "stream",
     "text": [
      "1 2 3 4 \n",
      "2 4 6 8 \n",
      "3 6 9 12 \n",
      "4 8 12 16 \n"
     ]
    }
   ],
   "source": [
    "#이중 for문\n",
    "\n",
    "for i in range(1,5):\n",
    "    for j in range(1,5):\n",
    "        print(i*j, end=' ')\n",
    "    print()"
   ]
  },
  {
   "cell_type": "code",
   "execution_count": 102,
   "id": "1c12e6cb-00ce-4a4b-9388-0f6b6c902dc0",
   "metadata": {},
   "outputs": [
    {
     "name": "stdout",
     "output_type": "stream",
     "text": [
      "i의 값: 1, 합계: 1\n",
      "i의 값: 2, 합계: 3\n",
      "i의 값: 3, 합계: 6\n",
      "i의 값: 4, 합계: 10\n",
      "i의 값: 5, 합계: 15\n"
     ]
    }
   ],
   "source": [
    "sum = 0\n",
    "\n",
    "for i in range(1,6):\n",
    "    sum += i \n",
    "    print(\"i의 값: %d, 합계: %d\"%(i,sum))"
   ]
  },
  {
   "cell_type": "code",
   "execution_count": 75,
   "id": "a64ec2a6-8348-4cba-889c-3323e95ceb5a",
   "metadata": {},
   "outputs": [
    {
     "name": "stdout",
     "output_type": "stream",
     "text": [
      "2 * 1 = 2\n",
      "2 * 2 = 4\n",
      "2 * 3 = 6\n",
      "2 * 4 = 8\n",
      "2 * 5 = 10\n",
      "2 * 6 = 12\n",
      "2 * 7 = 14\n",
      "2 * 8 = 16\n",
      "2 * 9 = 18\n",
      "******************************\n",
      "3 * 1 = 3\n",
      "3 * 2 = 6\n",
      "3 * 3 = 9\n",
      "3 * 4 = 12\n",
      "3 * 5 = 15\n",
      "3 * 6 = 18\n",
      "3 * 7 = 21\n",
      "3 * 8 = 24\n",
      "3 * 9 = 27\n",
      "******************************\n",
      "4 * 1 = 4\n",
      "4 * 2 = 8\n",
      "4 * 3 = 12\n",
      "4 * 4 = 16\n",
      "4 * 5 = 20\n",
      "4 * 6 = 24\n",
      "4 * 7 = 28\n",
      "4 * 8 = 32\n",
      "4 * 9 = 36\n",
      "******************************\n",
      "5 * 1 = 5\n",
      "5 * 2 = 10\n",
      "5 * 3 = 15\n",
      "5 * 4 = 20\n",
      "5 * 5 = 25\n",
      "5 * 6 = 30\n",
      "5 * 7 = 35\n",
      "5 * 8 = 40\n",
      "5 * 9 = 45\n",
      "******************************\n",
      "6 * 1 = 6\n",
      "6 * 2 = 12\n",
      "6 * 3 = 18\n",
      "6 * 4 = 24\n",
      "6 * 5 = 30\n",
      "6 * 6 = 36\n",
      "6 * 7 = 42\n",
      "6 * 8 = 48\n",
      "6 * 9 = 54\n",
      "******************************\n",
      "7 * 1 = 7\n",
      "7 * 2 = 14\n",
      "7 * 3 = 21\n",
      "7 * 4 = 28\n",
      "7 * 5 = 35\n",
      "7 * 6 = 42\n",
      "7 * 7 = 49\n",
      "7 * 8 = 56\n",
      "7 * 9 = 63\n",
      "******************************\n",
      "8 * 1 = 8\n",
      "8 * 2 = 16\n",
      "8 * 3 = 24\n",
      "8 * 4 = 32\n",
      "8 * 5 = 40\n",
      "8 * 6 = 48\n",
      "8 * 7 = 56\n",
      "8 * 8 = 64\n",
      "8 * 9 = 72\n",
      "******************************\n",
      "9 * 1 = 9\n",
      "9 * 2 = 18\n",
      "9 * 3 = 27\n",
      "9 * 4 = 36\n",
      "9 * 5 = 45\n",
      "9 * 6 = 54\n",
      "9 * 7 = 63\n",
      "9 * 8 = 72\n",
      "9 * 9 = 81\n",
      "******************************\n"
     ]
    }
   ],
   "source": [
    "for i in range(2, 10):\n",
    "    for j in range(1,10):\n",
    "        print(f\"{i} * {j} = {i*j}\")\n",
    "    print(\"*\"*30)"
   ]
  },
  {
   "cell_type": "code",
   "execution_count": 107,
   "id": "8cae726e-8346-41fc-8b27-db449ccbb20e",
   "metadata": {},
   "outputs": [
    {
     "name": "stdout",
     "output_type": "stream",
     "text": [
      "2 * 1 = 2 2 * 2 = 4 2 * 3 = 6 2 * 4 = 8 2 * 5 = 10 2 * 6 = 12 2 * 7 = 14 2 * 8 = 16 2 * 9 = 18 \n",
      "3 * 1 = 3 3 * 2 = 6 3 * 3 = 9 3 * 4 = 12 3 * 5 = 15 3 * 6 = 18 3 * 7 = 21 3 * 8 = 24 3 * 9 = 27 \n",
      "4 * 1 = 4 4 * 2 = 8 4 * 3 = 12 4 * 4 = 16 4 * 5 = 20 4 * 6 = 24 4 * 7 = 28 4 * 8 = 32 4 * 9 = 36 \n",
      "5 * 1 = 5 5 * 2 = 10 5 * 3 = 15 5 * 4 = 20 5 * 5 = 25 5 * 6 = 30 5 * 7 = 35 5 * 8 = 40 5 * 9 = 45 \n",
      "6 * 1 = 6 6 * 2 = 12 6 * 3 = 18 6 * 4 = 24 6 * 5 = 30 6 * 6 = 36 6 * 7 = 42 6 * 8 = 48 6 * 9 = 54 \n",
      "7 * 1 = 7 7 * 2 = 14 7 * 3 = 21 7 * 4 = 28 7 * 5 = 35 7 * 6 = 42 7 * 7 = 49 7 * 8 = 56 7 * 9 = 63 \n",
      "8 * 1 = 8 8 * 2 = 16 8 * 3 = 24 8 * 4 = 32 8 * 5 = 40 8 * 6 = 48 8 * 7 = 56 8 * 8 = 64 8 * 9 = 72 \n",
      "9 * 1 = 9 9 * 2 = 18 9 * 3 = 27 9 * 4 = 36 9 * 5 = 45 9 * 6 = 54 9 * 7 = 63 9 * 8 = 72 9 * 9 = 81 \n"
     ]
    }
   ],
   "source": [
    "for i in range(2, 10):\n",
    "    for j in range(1,10):\n",
    "        print(f\"{i} * {j} = {i*j:}\",end=\" \")\n",
    "    print()"
   ]
  },
  {
   "cell_type": "code",
   "execution_count": 82,
   "id": "8f7d4d14-cba9-4a6a-9670-ef38251de19c",
   "metadata": {},
   "outputs": [
    {
     "name": "stdout",
     "output_type": "stream",
     "text": [
      "multi campus\n",
      "multi campus\n",
      "multi campus\n",
      "multi campus\n",
      "multi campus\n"
     ]
    }
   ],
   "source": [
    "#while문\n",
    "\n",
    "i = 1\n",
    "while(i<=5):\n",
    "    print(\"multi campus\")\n",
    "    i += 1 #(정지조건) >> 없으면 무한 반복"
   ]
  },
  {
   "cell_type": "code",
   "execution_count": 83,
   "id": "973060a1-5f07-4e37-9764-5f52bcc0aac6",
   "metadata": {},
   "outputs": [
    {
     "name": "stdout",
     "output_type": "stream",
     "text": [
      "i의 값: 1, 합계:1\n",
      "i의 값: 2, 합계:3\n",
      "i의 값: 3, 합계:6\n",
      "i의 값: 4, 합계:10\n",
      "i의 값: 5, 합계:15\n"
     ]
    }
   ],
   "source": [
    "sum = 0\n",
    "i = 1\n",
    "\n",
    "while (i <= 5):\n",
    "    sum += i \n",
    "    print(\"i의 값: %d, 합계:%d\"%(i,sum))\n",
    "    i += 1 "
   ]
  },
  {
   "cell_type": "code",
   "execution_count": 85,
   "id": "ae9eb94f-5826-40ea-8058-b33203658365",
   "metadata": {},
   "outputs": [
    {
     "name": "stdout",
     "output_type": "stream",
     "text": [
      "m u l t i   c a m p u s "
     ]
    }
   ],
   "source": [
    "i = 0\n",
    "s = \"multi campus\"\n",
    "\n",
    "while i <= (len(s) - 1): #len(s)=12\n",
    "    print(s[i], end= ' ')\n",
    "    i += 1"
   ]
  },
  {
   "cell_type": "code",
   "execution_count": 86,
   "id": "36f6fb50-ab42-4858-aea4-fffce1ef06bd",
   "metadata": {},
   "outputs": [
    {
     "name": "stdout",
     "output_type": "stream",
     "text": [
      "0 1 2 3 4 5 6 7 8 9 "
     ]
    }
   ],
   "source": [
    "i = 0\n",
    "while i < 100:\n",
    "    print(i, end=' ')\n",
    "    i += 1\n",
    "    if i == 10:\n",
    "        break"
   ]
  },
  {
   "cell_type": "markdown",
   "id": "b71edbab-e4dc-4241-9954-744db72be0a6",
   "metadata": {},
   "source": [
    "#[기출응용] 평균 점수 계산"
   ]
  },
  {
   "cell_type": "code",
   "execution_count": 89,
   "id": "d488fc7c-be43-41c4-8584-56ef3f2f25f1",
   "metadata": {},
   "outputs": [
    {
     "name": "stdout",
     "output_type": "stream",
     "text": [
      "723\n",
      "평균은 72.30입니다.\n"
     ]
    }
   ],
   "source": [
    "#for문 활용 \n",
    "\n",
    "a = [70,60,55,95,80,70,85,47,83,78]\n",
    "\n",
    "sum = 0\n",
    "avg = 0 \n",
    "\n",
    "for i in a:\n",
    "    sum += i \n",
    "\n",
    "avg = (sum / len(a))\n",
    "print(sum)\n",
    "print(\"평균은 %.2f입니다.\"%avg)\n"
   ]
  },
  {
   "cell_type": "code",
   "execution_count": 91,
   "id": "bb4ad010-73ab-4ae6-9453-24d114a1335b",
   "metadata": {},
   "outputs": [
    {
     "name": "stdout",
     "output_type": "stream",
     "text": [
      "723\n",
      "평균은 72.30입니다.\n"
     ]
    }
   ],
   "source": [
    "#while문 \n",
    "\n",
    "a = [70,60,55,95,80,70,85,47,83,78]\n",
    "\n",
    "sum = 0\n",
    "avg = 0 \n",
    "\n",
    "i = 0\n",
    "while (i < len(a)):\n",
    "    sum += a[i]\n",
    "    i += 1\n",
    "\n",
    "avg = sum / len(a)\n",
    "print(sum)\n",
    "print(\"평균은 %.2f입니다.\"%avg)\n"
   ]
  },
  {
   "cell_type": "code",
   "execution_count": null,
   "id": "6189bb61-5622-464a-ba7b-2dc431de4a06",
   "metadata": {},
   "outputs": [],
   "source": []
  },
  {
   "cell_type": "code",
   "execution_count": null,
   "id": "e1616741-4049-4499-be2e-d3e8c8484965",
   "metadata": {},
   "outputs": [],
   "source": []
  }
 ],
 "metadata": {
  "kernelspec": {
   "display_name": "Python 3 (ipykernel)",
   "language": "python",
   "name": "python3"
  },
  "language_info": {
   "codemirror_mode": {
    "name": "ipython",
    "version": 3
   },
   "file_extension": ".py",
   "mimetype": "text/x-python",
   "name": "python",
   "nbconvert_exporter": "python",
   "pygments_lexer": "ipython3",
   "version": "3.11.7"
  }
 },
 "nbformat": 4,
 "nbformat_minor": 5
}
